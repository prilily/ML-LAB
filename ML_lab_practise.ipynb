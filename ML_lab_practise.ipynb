{
  "nbformat": 4,
  "nbformat_minor": 0,
  "metadata": {
    "colab": {
      "provenance": []
    },
    "kernelspec": {
      "name": "python3",
      "display_name": "Python 3"
    },
    "language_info": {
      "name": "python"
    }
  },
  "cells": [
    {
      "cell_type": "code",
      "execution_count": null,
      "metadata": {
        "id": "FudyAsTQTGG5"
      },
      "outputs": [],
      "source": [
        "import numpy as np\n",
        "import pandas as pd\n",
        "import matplotlib.pyplot as plt\n",
        "from sklearn.model_selection import train_test_split\n",
        "from sklearn import datasets\n",
        "from sklearn.metrics import mean_squared_error,r2_score"
      ]
    },
    {
      "cell_type": "markdown",
      "source": [
        "# **LINEAR-REGRESSION**"
      ],
      "metadata": {
        "id": "_chCwZtUgnSH"
      }
    },
    {
      "cell_type": "code",
      "source": [
        "X,y=datasets.make_regression(n_samples=500,n_features=1,noise=30,random_state=50)\n",
        "X_train,X_test,y_train,y_test=train_test_split(X,y,test_size=0.2,random_state=1234)"
      ],
      "metadata": {
        "id": "ffljXcGBTY7v"
      },
      "execution_count": null,
      "outputs": []
    },
    {
      "cell_type": "code",
      "source": [
        "y.shape"
      ],
      "metadata": {
        "colab": {
          "base_uri": "https://localhost:8080/"
        },
        "id": "hrutJomvYdmu",
        "outputId": "86e7fcef-7a90-48c3-a9f2-f3ca9ac99508"
      },
      "execution_count": null,
      "outputs": [
        {
          "output_type": "execute_result",
          "data": {
            "text/plain": [
              "(1000,)"
            ]
          },
          "metadata": {},
          "execution_count": 58
        }
      ]
    },
    {
      "cell_type": "code",
      "source": [
        "X.shape"
      ],
      "metadata": {
        "colab": {
          "base_uri": "https://localhost:8080/"
        },
        "id": "V3eFUumEYhi6",
        "outputId": "2fb4883d-39fa-4b34-8cdb-8a3a9bde9980"
      },
      "execution_count": null,
      "outputs": [
        {
          "output_type": "execute_result",
          "data": {
            "text/plain": [
              "(1000, 1)"
            ]
          },
          "metadata": {},
          "execution_count": 59
        }
      ]
    },
    {
      "cell_type": "code",
      "source": [
        "fig=plt.figure(figsize=(8,6))\n",
        "cmap=plt.get_cmap('viridis')\n",
        "plt.scatter(X_train,y_train,s=10,cmap='b')\n",
        "plt.show()"
      ],
      "metadata": {
        "colab": {
          "base_uri": "https://localhost:8080/",
          "height": 374
        },
        "id": "RNELMv-ITvVk",
        "outputId": "95cbff16-97e4-4105-f7f8-74a898e5c5e7"
      },
      "execution_count": null,
      "outputs": [
        {
          "output_type": "display_data",
          "data": {
            "text/plain": [
              "<Figure size 576x432 with 1 Axes>"
            ],
            "image/png": "[encoded data removed]"
          },
          "metadata": {
            "needs_background": "light"
          }
        }
      ]
    },
    {
      "cell_type": "code",
      "source": [
        "class LinearRegression():\n",
        "  def __init__(self,lr=0.01,n_iters=5000):\n",
        "    self.lr=lr\n",
        "    self.n_iters=n_iters\n",
        "    self.weights=None\n",
        "    self.bias=None\n",
        "\n",
        "  def fit(self,X,y):\n",
        "    n_samples,n_features=X.shape\n",
        "    self.weights=np.zeros(n_features)\n",
        "    self.bias=0\n",
        "\n",
        "    for i in range(self.n_iters):\n",
        "      y_pred=np.dot(X,self.weights)+self.bias\n",
        "\n",
        "      dw=(1/n_samples)*np.dot(X.T,(y_pred-y))\n",
        "      db=(1/n_samples)*np.sum(y_pred-y)\n",
        "\n",
        "      self.weights-=dw*self.lr\n",
        "      self.bias-=db*self.lr\n",
        "\n",
        "  def predict(self,X):\n",
        "    return np.dot(X,self.weights)+self.bias"
      ],
      "metadata": {
        "id": "JdQNITGrU3Ak"
      },
      "execution_count": null,
      "outputs": []
    },
    {
      "cell_type": "code",
      "source": [
        "def mean_squared_error(y_test,y_pred):\n",
        "  return np.mean((y_pred-y_test)**2)"
      ],
      "metadata": {
        "id": "ExQ9snbSWnyt"
      },
      "execution_count": null,
      "outputs": []
    },
    {
      "cell_type": "code",
      "source": [
        "reg=LinearRegression(0.01,100000)\n",
        "reg.fit(X_train,y_train)\n",
        "pred=reg.predict(X_test)\n"
      ],
      "metadata": {
        "id": "D2ykeQ5ZWJzo"
      },
      "execution_count": null,
      "outputs": []
    },
    {
      "cell_type": "code",
      "source": [
        "print(pd.DataFrame(y_test,pred))"
      ],
      "metadata": {
        "colab": {
          "base_uri": "https://localhost:8080/"
        },
        "id": "8vZKo81vW5Gy",
        "outputId": "f6a561fa-4c36-46c1-cbb6-5888a440421f"
      },
      "execution_count": null,
      "outputs": [
        {
          "output_type": "stream",
          "name": "stdout",
          "text": [
            "                      0\n",
            "-115.519719 -100.653291\n",
            "-141.608570 -134.511941\n",
            " 15.144203    24.286159\n",
            " 7.674610     13.192207\n",
            " 101.169698   70.748697\n",
            "...                 ...\n",
            " 109.571929  165.677081\n",
            " 89.383157    73.433464\n",
            "-39.439558    -0.302581\n",
            " 2.492204    -30.617359\n",
            "-37.397724   -71.828979\n",
            "\n",
            "[100 rows x 1 columns]\n"
          ]
        }
      ]
    },
    {
      "cell_type": "code",
      "source": [
        "mse=mean_squared_error(y_test,pred)\n",
        "print(mse)"
      ],
      "metadata": {
        "colab": {
          "base_uri": "https://localhost:8080/"
        },
        "id": "iWzTg4FYWWKu",
        "outputId": "84f44944-b377-411b-c84a-fddd5c7a8642"
      },
      "execution_count": null,
      "outputs": [
        {
          "output_type": "stream",
          "name": "stdout",
          "text": [
            "902.4777914529416\n"
          ]
        }
      ]
    },
    {
      "cell_type": "code",
      "source": [
        "acc=r2_score(pred,y_test)\n",
        "print(acc)"
      ],
      "metadata": {
        "colab": {
          "base_uri": "https://localhost:8080/"
        },
        "id": "wlKyIO75W_Dx",
        "outputId": "3bb7de92-76e2-49dc-af7a-66cede180b91"
      },
      "execution_count": null,
      "outputs": [
        {
          "output_type": "stream",
          "name": "stdout",
          "text": [
            "0.887494590421421\n"
          ]
        }
      ]
    },
    {
      "cell_type": "code",
      "source": [
        "fig=plt.figure(figsize=(8,6))\n",
        "cmap=plt.get_cmap('viridis')\n",
        "m1=plt.scatter(X_train,y_train,s=10,cmap='b')\n",
        "m2=plt.scatter(X_test,y_test,s=10,cmap='r')\n",
        "y_line=reg.predict(X)\n",
        "plt.plot(X,y_line,color='black',linewidth=1)\n",
        "plt.show()"
      ],
      "metadata": {
        "colab": {
          "base_uri": "https://localhost:8080/",
          "height": 374
        },
        "id": "kd9KXlV_X8SF",
        "outputId": "7b1549d7-0579-44f6-a833-f8b95e1e1ded"
      },
      "execution_count": null,
      "outputs": [
        {
          "output_type": "display_data",
          "data": {
            "text/plain": [
              "<Figure size 576x432 with 1 Axes>"
            ],
            "image/png": "[encoded data removed]"
          },
          "metadata": {
            "needs_background": "light"
          }
        }
      ]
    },
    {
      "cell_type": "markdown",
      "source": [
        "# **LOGISTIC REGRESIION**"
      ],
      "metadata": {
        "id": "rJPTchFNgrba"
      }
    },
    {
      "cell_type": "code",
      "source": [
        "import numpy as np\n",
        "import pandas as pd\n",
        "from sklearn.metrics import mean_squared_error,r2_score\n",
        "from sklearn import datasets\n",
        "from sklearn.model_selection import train_test_split\n",
        "import matplotlib.pyplot as plt\n"
      ],
      "metadata": {
        "id": "2LKNoG2dgv8K"
      },
      "execution_count": null,
      "outputs": []
    },
    {
      "cell_type": "code",
      "source": [
        "class LogRegression():\n",
        "  def __init__(self,lr=0.001,n_iters=1000):\n",
        "    self.lr=lr\n",
        "    self.n_iters=n_iters\n",
        "    self.weights=None\n",
        "    self.bias=None\n",
        "  \n",
        "\n",
        "  def fit(self,X,y):\n",
        "    n_samples,n_features=X.shape\n",
        "    self.weights=np.zeros(n_features)\n",
        "    self.bias=0\n",
        "\n",
        "    for i in range(self.n_iters):\n",
        "      linear=np.dot(X,self.weights)+self.bias\n",
        "      y_pred=self._sigmoid(linear)\n",
        "\n",
        "      dw=(1/n_samples)*np.dot(X.T,(y_pred-y))\n",
        "      db=(1/n_samples)*np.sum(y_pred-y)\n",
        "\n",
        "      self.weights-=self.lr*dw\n",
        "      self.bias-=self.lr*db\n",
        "\n",
        "  \n",
        "  def predict(self,X):\n",
        "    linear=np.dot(X,self.weights)+self.bias\n",
        "    y_pred=self._sigmoid(linear)\n",
        "    y_class=[1 if i>0.5 else 0 for i in y_pred]\n",
        "\n",
        "    return np.array(y_class)\n",
        "  \n",
        "  def _sigmoid(self, x):\n",
        "        return 1 / (1 + np.exp(-x))\n"
      ],
      "metadata": {
        "id": "F1D5QpUqipzE"
      },
      "execution_count": null,
      "outputs": []
    },
    {
      "cell_type": "code",
      "source": [
        "bc=datasets.load_breast_cancer()\n",
        "X,y=bc.data,bc.target\n"
      ],
      "metadata": {
        "id": "ilW18o7whEQ3"
      },
      "execution_count": null,
      "outputs": []
    },
    {
      "cell_type": "code",
      "source": [
        "X_train,X_test,y_train,y_test=train_test_split(X,y,test_size=0.2,random_state=1234)"
      ],
      "metadata": {
        "id": "y49z8WauhR21"
      },
      "execution_count": null,
      "outputs": []
    },
    {
      "cell_type": "code",
      "source": [
        "X.shape"
      ],
      "metadata": {
        "colab": {
          "base_uri": "https://localhost:8080/"
        },
        "id": "A_adh0UJhdbV",
        "outputId": "1c6c286a-afb8-473b-e1ad-18ced7832db0"
      },
      "execution_count": null,
      "outputs": [
        {
          "output_type": "execute_result",
          "data": {
            "text/plain": [
              "(569, 30)"
            ]
          },
          "metadata": {},
          "execution_count": 88
        }
      ]
    },
    {
      "cell_type": "code",
      "source": [
        "y.shape"
      ],
      "metadata": {
        "colab": {
          "base_uri": "https://localhost:8080/"
        },
        "id": "TU0M909Qhe8m",
        "outputId": "d1df7269-f3a9-4e52-a6d5-6c8d4775407b"
      },
      "execution_count": null,
      "outputs": [
        {
          "output_type": "execute_result",
          "data": {
            "text/plain": [
              "(569,)"
            ]
          },
          "metadata": {},
          "execution_count": 90
        }
      ]
    },
    {
      "cell_type": "code",
      "source": [
        "bc.target_names"
      ],
      "metadata": {
        "colab": {
          "base_uri": "https://localhost:8080/"
        },
        "id": "eQ4ifcCoh2gg",
        "outputId": "d4bff549-c0be-4fa7-c386-756b04438cea"
      },
      "execution_count": null,
      "outputs": [
        {
          "output_type": "execute_result",
          "data": {
            "text/plain": [
              "array(['malignant', 'benign'], dtype='<U9')"
            ]
          },
          "metadata": {},
          "execution_count": 92
        }
      ]
    },
    {
      "cell_type": "code",
      "source": [
        "def acc(y_pred,y):\n",
        "  return np.mean((y_pred==y))"
      ],
      "metadata": {
        "id": "wpNr7cVQj-RT"
      },
      "execution_count": null,
      "outputs": []
    },
    {
      "cell_type": "code",
      "source": [
        "reg=LogRegression(lr=0.0001,n_iters=5000)\n",
        "reg.fit(X_train,y_train)\n",
        "\n",
        "pred=reg.predict(X_test)\n",
        "\n",
        "ac=acc(pred,y_test)\n",
        "print(ac)"
      ],
      "metadata": {
        "colab": {
          "base_uri": "https://localhost:8080/"
        },
        "id": "nS7yLYCpkE7I",
        "outputId": "d08798cc-9e13-4cfa-a396-7845d6e55d40"
      },
      "execution_count": null,
      "outputs": [
        {
          "output_type": "stream",
          "name": "stdout",
          "text": [
            "0.9298245614035088\n"
          ]
        }
      ]
    },
    {
      "cell_type": "code",
      "source": [
        "print(np.count_nonzero(y_test==1),np.count_nonzero(pred==1))"
      ],
      "metadata": {
        "colab": {
          "base_uri": "https://localhost:8080/"
        },
        "id": "CoFVe6M0mTlC",
        "outputId": "48c6e17c-154d-4284-f54a-59d28c7611fb"
      },
      "execution_count": null,
      "outputs": [
        {
          "output_type": "stream",
          "name": "stdout",
          "text": [
            "69 71\n"
          ]
        }
      ]
    },
    {
      "cell_type": "markdown",
      "source": [
        "# **SVM**"
      ],
      "metadata": {
        "id": "KZ7re2CUltD4"
      }
    },
    {
      "cell_type": "code",
      "source": [
        "class SVM():\n",
        "  def __init__(self,lr=0.001,lambda_param=0.01,n_iters=1000):\n",
        "    self.lr=lr\n",
        "    self.lambda_param=lambda_param\n",
        "    self.n_iters=n_iters\n",
        "    self.w=None\n",
        "    self.b=None\n",
        "\n",
        "  def fit(self,X,y):\n",
        "    n_samples,n_features=X.shape\n",
        "    self.w=np.zeros(n_features)\n",
        "    self.b=0\n",
        "\n",
        "    y_=np.where(y<=0,1,-1)\n",
        "\n",
        "    for _ in range(self.n_iters):\n",
        "      for idx, x_i in enumerate(X):\n",
        "          condition = y_[idx] * (np.dot(x_i, self.w) - self.b) >= 1\n",
        "          if condition:\n",
        "              self.w -= self.lr * (2 * self.lambda_param * self.w)\n",
        "          else:\n",
        "              self.w -= self.lr * (2 * self.lambda_param * self.w - np.dot(x_i, y_[idx])  )\n",
        "              self.b -= self.lr * y_[idx]\n",
        "\n",
        "  \n",
        "  def predict(self,X):\n",
        "    return np.sign(np.dot(X,self.w)-self.b)"
      ],
      "metadata": {
        "id": "Tq-jgTzalvTy"
      },
      "execution_count": null,
      "outputs": []
    },
    {
      "cell_type": "code",
      "source": [
        "X,y=datasets.make_blobs(n_samples=50,n_features=2,centers=2,cluster_std=1.05,random_state=40)\n",
        "y=np.where(y==0,1,-1)\n",
        "X.shape\n"
      ],
      "metadata": {
        "colab": {
          "base_uri": "https://localhost:8080/"
        },
        "id": "FZ-EzxERnq0f",
        "outputId": "1ce229d6-30ad-4023-a5f3-c88c807dd2b5"
      },
      "execution_count": null,
      "outputs": [
        {
          "output_type": "execute_result",
          "data": {
            "text/plain": [
              "(50, 2)"
            ]
          },
          "metadata": {},
          "execution_count": 25
        }
      ]
    },
    {
      "cell_type": "code",
      "source": [
        "clf = SVM()\n",
        "clf.fit(X, y)\n",
        "\n",
        "pred=clf.predict(X)"
      ],
      "metadata": {
        "id": "JJWRF855rkAd"
      },
      "execution_count": null,
      "outputs": []
    },
    {
      "cell_type": "code",
      "source": [
        "fig=plt.figure()\n",
        "ax=fig.add_subplot(1,1,1)\n",
        "plt.scatter(X[:,0],X[:,1],marker=\"o\",c=y)"
      ],
      "metadata": {
        "colab": {
          "base_uri": "https://localhost:8080/",
          "height": 283
        },
        "id": "9WsUnkx5tBdo",
        "outputId": "25f9f0a5-a8ea-43b9-b46a-8308782a1a54"
      },
      "execution_count": null,
      "outputs": [
        {
          "output_type": "execute_result",
          "data": {
            "text/plain": [
              "<matplotlib.collections.PathCollection at 0x7fe01141e250>"
            ]
          },
          "metadata": {},
          "execution_count": 29
        },
        {
          "output_type": "display_data",
          "data": {
            "text/plain": [
              "<Figure size 432x288 with 1 Axes>"
            ],
            "image/png": "[encoded data removed]"
          },
          "metadata": {
            "needs_background": "light"
          }
        }
      ]
    },
    {
      "cell_type": "code",
      "source": [
        "#to plot\n",
        "def visualise():\n",
        "  def hyperplane(x,w,b,offset):\n",
        "    return (-w[0]*x+b+offset)/w[1]\n",
        "\n",
        "  fig=plt.figure()\n",
        "  ax=fig.add_subplot(1,1,1)\n",
        "  plt.scatter(X[:,0],X[:,1],marker=\"o\",c=y)\n",
        "\n",
        "  #get the margin values\n",
        "  x01=np.amin(X[:,0])\n",
        "  x02=np.amax(X[:,0])\n",
        "\n",
        "  #central line\n",
        "  x11=hyperplane(x01,clf.w,clf.b,0)\n",
        "  x12=hyperplane(x02,clf.w,clf.b,0)\n",
        "\n",
        "  #for -ve class\n",
        "  xm1=hyperplane(x01,clf.w,clf.b,-1)\n",
        "  xm2=hyperplane(x02,clf.w,clf.b,-1)\n",
        "\n",
        "  #for +ve class\n",
        "  xp1=hyperplane(x01,clf.w,clf.b,1)\n",
        "  xp2=hyperplane(x02,clf.w,clf.b,1)\n",
        "\n",
        "  ax.plot([x01,x02],[x11,x12],\"y--\")\n",
        "  ax.plot([x01,x02],[xm1,xm2],\"k\")\n",
        "  ax.plot([x01,x02],[xp1,xp2],\"k\")\n",
        "\n",
        "  x1_min=np.amin(X[:,1])\n",
        "  x1_max=np.amax(X[:,1])\n",
        "\n",
        "  ax.set_ylim([x1_min-3,x1_max+3])\n",
        "\n",
        "  plt.show()\n",
        "\n",
        "visualise()"
      ],
      "metadata": {
        "colab": {
          "base_uri": "https://localhost:8080/",
          "height": 265
        },
        "id": "h9bozk8xsd9O",
        "outputId": "9278a6b2-34d5-4e46-fc25-6cc45fe4cf73"
      },
      "execution_count": null,
      "outputs": [
        {
          "output_type": "display_data",
          "data": {
            "text/plain": [
              "<Figure size 432x288 with 1 Axes>"
            ],
            "image/png": "[encoded data removed]"
          },
          "metadata": {
            "needs_background": "light"
          }
        }
      ]
    },
    {
      "cell_type": "markdown",
      "source": [
        "# **PCA**"
      ],
      "metadata": {
        "id": "jDcRhSRC9YGL"
      }
    },
    {
      "cell_type": "code",
      "source": [
        "# mean, cov, eigen, sort, k comp, project\n",
        "class PCA:\n",
        "  def __init__(self,k):\n",
        "    self.k=k\n",
        "    self.comp=None\n",
        "    self.mean=None\n",
        "\n",
        "  def fit(self,X):\n",
        "    self.mean=np.mean(X,axis=0)\n",
        "    X=X-self.mean\n",
        "\n",
        "    cov=np.cov(X.T)\n",
        "\n",
        "    eval,evec=np.linalg.eig(cov)\n",
        "\n",
        "    evec=evec.T\n",
        "\n",
        "    idx=np.argsort(eval)[::-1]\n",
        "    eval=eval[idx]\n",
        "    evec=evec[idx]\n",
        "\n",
        "    self.comp=evec[0:self.k]\n",
        "    \n",
        "  def transform(self,X):\n",
        "    X=X-self.mean\n",
        "    return np.dot(X,self.comp.T)\n",
        "\n",
        "d=datasets.load_iris()\n",
        "X,y=d.data,d.target\n",
        "pca=PCA(2)\n",
        "pca.fit(X)\n",
        "pred=pca.transform(X)\n",
        "\n",
        "print(X.shape)\n",
        "print(pred.shape)\n",
        "\n",
        "x11=pred[:,0]\n",
        "x12=pred[:,1]\n",
        "plt.scatter(x11,x12,c=y,alpha=0.8)\n",
        "\n",
        "plt.xlabel('PC1')\n",
        "plt.ylabel('PC2')\n",
        "\n",
        "plt.colorbar()\n",
        "plt.show()"
      ],
      "metadata": {
        "colab": {
          "base_uri": "https://localhost:8080/",
          "height": 320
        },
        "id": "9fbdkteo9a0Q",
        "outputId": "c2e98bdc-daa4-48fa-93f6-a98b7cfbff42"
      },
      "execution_count": null,
      "outputs": [
        {
          "output_type": "stream",
          "name": "stdout",
          "text": [
            "(150, 4)\n",
            "(150, 2)\n"
          ]
        },
        {
          "output_type": "display_data",
          "data": {
            "text/plain": [
              "<Figure size 432x288 with 2 Axes>"
            ],
            "image/png": "[encoded data removed]"
          },
          "metadata": {
            "needs_background": "light"
          }
        }
      ]
    },
    {
      "cell_type": "markdown",
      "source": [
        "# **LDA**"
      ],
      "metadata": {
        "id": "fAR3qjzfEJX0"
      }
    },
    {
      "cell_type": "code",
      "source": [
        "class LDA:\n",
        "  def __init__(self,k):\n",
        "    self.k=k\n",
        "    self.comp=None\n",
        "\n",
        "  def fit(self,X,y):\n",
        "    # class labels, sw,sb,eigen\n",
        "    mean=np.mean(X,axis=0)\n",
        "    class_labels=np.unique(y)\n",
        "    n_features=X.shape[1]\n",
        "\n",
        "    sw=np.zeros((n_features,n_features))\n",
        "    sb=np.zeros((n_features,n_features))\n",
        "\n",
        "    for c in class_labels:\n",
        "      x_c=X[y==c]\n",
        "      mean_c=np.mean(x_c,axis=0)\n",
        "\n",
        "      sw+=(x_c-mean_c).T.dot(x_c-mean_c)\n",
        "      \n",
        "      n_c=x_c.shape[0]\n",
        "      mean_diff=(mean_c-mean).reshape(n_features,1)\n",
        "      sb+=n_c*(mean_diff).dot(mean_diff.T)\n",
        "  \n",
        "\n",
        "    a=np.linalg.inv(sw).dot(sb)\n",
        "\n",
        "    eval,evec=np.linalg.eig(a)\n",
        "    evec=evec.T\n",
        "\n",
        "    idx=np.argsort(abs(eval))[::-1]\n",
        "    eval=eval[idx]\n",
        "    evec=evec[idx]\n",
        "\n",
        "    self.comp=evec[0:self.k]\n",
        "  \n",
        "\n",
        "  def transform(self,X):\n",
        "    return np.dot(X,self.comp.T)"
      ],
      "metadata": {
        "id": "tCTrCresLd5v"
      },
      "execution_count": null,
      "outputs": []
    },
    {
      "cell_type": "code",
      "source": [
        "d=datasets.load_iris()\n",
        "X,y=d.data,d.target\n",
        "\n",
        "lda=LDA(2)\n",
        "lda.fit(X,y)\n",
        "pred=lda.transform(X)\n",
        "\n",
        "print(X.shape)\n",
        "print(pred.shape)\n",
        "\n",
        "x1=pred[:,0]\n",
        "x2=pred[:,1]\n",
        "\n",
        "plt.scatter(x1,x2,c=y,alpha=0.8)\n",
        "plt.xlabel(\"LD1\")\n",
        "plt.xlabel(\"LD2\")\n",
        "plt.colorbar()\n",
        "plt.show()"
      ],
      "metadata": {
        "colab": {
          "base_uri": "https://localhost:8080/",
          "height": 320
        },
        "id": "dcpEOB-ANeDF",
        "outputId": "34bc5ad1-57d9-4b9d-f236-e2ddf5a70840"
      },
      "execution_count": null,
      "outputs": [
        {
          "output_type": "stream",
          "name": "stdout",
          "text": [
            "(150, 4)\n",
            "(150, 2)\n"
          ]
        },
        {
          "output_type": "display_data",
          "data": {
            "text/plain": [
              "<Figure size 432x288 with 2 Axes>"
            ],
            "image/png": "[encoded data removed]"
          },
          "metadata": {
            "needs_background": "light"
          }
        }
      ]
    },
    {
      "cell_type": "markdown",
      "source": [
        "# **BACK PROPAGATION**"
      ],
      "metadata": {
        "id": "RbJLPp0koGUR"
      }
    },
    {
      "cell_type": "code",
      "source": [
        "class FCLayer:\n",
        "  def __init__(self,input_size,output_size):\n",
        "    self.input_size=input_size\n",
        "    self.output_size=output_size\n",
        "    self.w=np.random.randn(self.input_size,self.output_size)-0.5\n",
        "    self.b=np.random.randn(1,self.output_size)-0.5\n",
        "  \n",
        "  def forward_propagation(self,X):\n",
        "    self.input=X\n",
        "    self.output=np.dot(self.input,self.w)+self.b\n",
        "    return self.output\n",
        "  \n",
        "  def backward_propagation(self,output_error,lr): # de/dw=y*w de/dx=w*y de/db=y\n",
        "    input_error=np.dot(output_error,self.w.T)\n",
        "    weight_error=np.dot(self.input.T,output_error)\n",
        "\n",
        "    self.w-=lr*weight_error\n",
        "    self.b-=lr*output_error\n",
        "    return input_error\n",
        "\n",
        "class ActivationLayer:\n",
        "  def __init__(self,ac,acp):\n",
        "    self.ac=ac\n",
        "    self.acp=acp\n",
        "  \n",
        "  def forward_propagation(self,X):\n",
        "    self.input=X\n",
        "    self.output=self.ac(self.input)\n",
        "    return self.output\n",
        "  \n",
        "  def backward_propagation(self,output_error,lr):\n",
        "    return output_error*self.acp(self.input)\n",
        "\n",
        "\n",
        "def tanh(x):\n",
        "  return np.tanh(x)\n",
        "\n",
        "def tanhp(x):\n",
        "  return 1-np.tanh(x)**2\n",
        "\n",
        "def mse(y,y_pred):\n",
        "  return np.mean(np.power(y-y_pred,2))\n",
        "\n",
        "def msep(y,y_pred):\n",
        "  return 2*(y_pred-y)/y.size"
      ],
      "metadata": {
        "id": "geLb1BV0oJUm"
      },
      "execution_count": null,
      "outputs": []
    },
    {
      "cell_type": "code",
      "source": [
        "x_train=np.array([[[0,0]],[[0,1]],[[1,0]],[[1,1]]])\n",
        "y_train=np.array([[[0]],[[1]],[[1]],[[0]]])\n",
        "\n",
        "network=[\n",
        "    FCLayer(2,3),\n",
        "    ActivationLayer(tanh,tanhp),\n",
        "    FCLayer(3,1),\n",
        "    ActivationLayer(tanh,tanhp)\n",
        "]\n",
        "\n",
        "epochs=1000\n",
        "lr=0.1\n",
        "\n",
        "for i in range(epochs):\n",
        "  error=0\n",
        "  for j in range(len(x_train)):\n",
        "    output=x_train[j]\n",
        "    for layer in network:#fp\n",
        "      output=layer.forward_propagation(output)\n",
        "\n",
        "    #error\n",
        "    error+=mse(y_train[j],output)\n",
        "    output_error=msep(y_train[j],output)\n",
        "\n",
        "    for layer in reversed(network):#bp\n",
        "      output_error=layer.backward_propagation(output_error,lr)\n",
        "\n",
        "  error/=len(x_train)\n",
        "  print(i+1,\" / \",epochs,\" \",error)"
      ],
      "metadata": {
        "colab": {
          "base_uri": "https://localhost:8080/"
        },
        "id": "csnU2GQTqyX5",
        "outputId": "9b65eca1-477d-4d71-d2aa-bda4e2f500fc"
      },
      "execution_count": null,
      "outputs": [
        {
          "output_type": "stream",
          "name": "stdout",
          "text": [
            "1  /  1000   0.6778275194194163\n",
            "2  /  1000   0.2717973723819179\n",
            "3  /  1000   0.24208262305800254\n",
            "4  /  1000   0.24012953769773626\n",
            "5  /  1000   0.23981586205860966\n",
            "6  /  1000   0.23950361278169657\n",
            "7  /  1000   0.23918226247481064\n",
            "8  /  1000   0.23885383663861567\n",
            "9  /  1000   0.23851840252240733\n",
            "10  /  1000   0.23817575305968613\n",
            "11  /  1000   0.23782569372685095\n",
            "12  /  1000   0.23746808463932903\n",
            "13  /  1000   0.2371028493202732\n",
            "14  /  1000   0.2367299792751121\n",
            "15  /  1000   0.23634953821753713\n",
            "16  /  1000   0.23596166631567025\n",
            "17  /  1000   0.2355665843198696\n",
            "18  /  1000   0.2351645973386679\n",
            "19  /  1000   0.23475609799420505\n",
            "20  /  1000   0.2343415686655334\n",
            "21  /  1000   0.2339215825133061\n",
            "22  /  1000   0.23349680297520403\n",
            "23  /  1000   0.2330679814317132\n",
            "24  /  1000   0.23263595277018143\n",
            "25  /  1000   0.23220162862450602\n",
            "26  /  1000   0.23176598814022956\n",
            "27  /  1000   0.23133006621040933\n",
            "28  /  1000   0.23089493924430615\n",
            "29  /  1000   0.23046170866398974\n",
            "30  /  1000   0.23003148246594363\n",
            "31  /  1000   0.22960535532572787\n",
            "32  /  1000   0.22918438785195755\n",
            "33  /  1000   0.22876958569881176\n",
            "34  /  1000   0.22836187931223065\n",
            "35  /  1000   0.22796210510444803\n",
            "36  /  1000   0.2275709888188818\n",
            "37  /  1000   0.22718913176196254\n",
            "38  /  1000   0.22681700044492428\n",
            "39  /  1000   0.22645492000680775\n",
            "40  /  1000   0.22610307159395066\n",
            "41  /  1000   0.22576149366752302\n",
            "42  /  1000   0.22543008701610545\n",
            "43  /  1000   0.22510862308013826\n",
            "44  /  1000   0.2247967550611939\n",
            "45  /  1000   0.22449403119885852\n",
            "46  /  1000   0.22419990955406652\n",
            "47  /  1000   0.22391377363794746\n",
            "48  /  1000   0.2236349482638107\n",
            "49  /  1000   0.22336271506846403\n",
            "50  /  1000   0.22309632723809147\n",
            "51  /  1000   0.22283502307381986\n",
            "52  /  1000   0.22257803813427834\n",
            "53  /  1000   0.2223246157898377\n",
            "54  /  1000   0.22207401611066452\n",
            "55  /  1000   0.22182552308497439\n",
            "56  /  1000   0.22157845022339215\n",
            "57  /  1000   0.2213321446500085\n",
            "58  /  1000   0.221085989811466\n",
            "59  /  1000   0.2208394069538478\n",
            "60  /  1000   0.22059185552522587\n",
            "61  /  1000   0.22034283266156585\n",
            "62  /  1000   0.22009187190728902\n",
            "63  /  1000   0.2198385413109925\n",
            "64  /  1000   0.21958244102319463\n",
            "65  /  1000   0.21932320050779625\n",
            "66  /  1000   0.21906047546323637\n",
            "67  /  1000   0.21879394453384168\n",
            "68  /  1000   0.2185233058771574\n",
            "69  /  1000   0.21824827363947996\n",
            "70  /  1000   0.21796857437961603\n",
            "71  /  1000   0.21768394347020373\n",
            "72  /  1000   0.21739412149681142\n",
            "73  /  1000   0.21709885066751095\n",
            "74  /  1000   0.2167978712397221\n",
            "75  /  1000   0.21649091796685344\n",
            "76  /  1000   0.21617771656467474\n",
            "77  /  1000   0.2158579801965269\n",
            "78  /  1000   0.21553140597751533\n",
            "79  /  1000   0.215197671500941\n",
            "80  /  1000   0.21485643139560634\n",
            "81  /  1000   0.21450731393060135\n",
            "82  /  1000   0.21414991769504133\n",
            "83  /  1000   0.2137838083943757\n",
            "84  /  1000   0.21340851582266315\n",
            "85  /  1000   0.21302353109195893\n",
            "86  /  1000   0.21262830422584889\n",
            "87  /  1000   0.21222224225421332\n",
            "88  /  1000   0.21180470798007828\n",
            "89  /  1000   0.2113750196259752\n",
            "90  /  1000   0.21093245160479435\n",
            "91  /  1000   0.21047623669574952\n",
            "92  /  1000   0.21000556993537253\n",
            "93  /  1000   0.20951961455010762\n",
            "94  /  1000   0.2090175102525779\n",
            "95  /  1000   0.20849838418700412\n",
            "96  /  1000   0.20796136472735668\n",
            "97  /  1000   0.20740559818975113\n",
            "98  /  1000   0.20683026830332685\n",
            "99  /  1000   0.20623461797885934\n",
            "100  /  1000   0.20561797251557046\n",
            "101  /  1000   0.20497976289996422\n",
            "102  /  1000   0.20431954730042126\n",
            "103  /  1000   0.2036370282971967\n",
            "104  /  1000   0.20293206288852267\n",
            "105  /  1000   0.20220466198833306\n",
            "106  /  1000   0.20145497610954521\n",
            "107  /  1000   0.20068326434066788\n",
            "108  /  1000   0.19988984467555523\n",
            "109  /  1000   0.1990750252810829\n",
            "110  /  1000   0.19823901831310206\n",
            "111  /  1000   0.1973818402132343\n",
            "112  /  1000   0.1965032047064516\n",
            "113  /  1000   0.1956024165566545\n",
            "114  /  1000   0.19467827510760233\n",
            "115  /  1000   0.1937289964247154\n",
            "116  /  1000   0.19275216134299308\n",
            "117  /  1000   0.1917446940546859\n",
            "118  /  1000   0.19070287241887932\n",
            "119  /  1000   0.18962236749377237\n",
            "120  /  1000   0.18849830647784874\n",
            "121  /  1000   0.18732535081083523\n",
            "122  /  1000   0.18609777995506557\n",
            "123  /  1000   0.18480957144302634\n",
            "124  /  1000   0.18345446900345885\n",
            "125  /  1000   0.1820260326663829\n",
            "126  /  1000   0.18051766731350333\n",
            "127  /  1000   0.17892262880134785\n",
            "128  /  1000   0.17723400922230959\n",
            "129  /  1000   0.17544470486999236\n",
            "130  /  1000   0.17354737194250835\n",
            "131  /  1000   0.17153437596040688\n",
            "132  /  1000   0.16939774138936342\n",
            "133  /  1000   0.16712910819428478\n",
            "134  /  1000   0.16471970219526572\n",
            "135  /  1000   0.16216032633988758\n",
            "136  /  1000   0.15944138053340728\n",
            "137  /  1000   0.15655291863308196\n",
            "138  /  1000   0.15348475272153533\n",
            "139  /  1000   0.1502266168561708\n",
            "140  /  1000   0.1467684050575182\n",
            "141  /  1000   0.14310050107720293\n",
            "142  /  1000   0.13921421993350092\n",
            "143  /  1000   0.1351023823916381\n",
            "144  /  1000   0.1307600420543037\n",
            "145  /  1000   0.12618537844607047\n",
            "146  /  1000   0.12138075571516586\n",
            "147  /  1000   0.11635392222620852\n",
            "148  /  1000   0.11111928859185008\n",
            "149  /  1000   0.10569916964930814\n",
            "150  /  1000   0.10012481296087167\n",
            "151  /  1000   0.0944369736900176\n",
            "152  /  1000   0.08868575464818543\n",
            "153  /  1000   0.08292944210035202\n",
            "154  /  1000   0.07723216539173554\n",
            "155  /  1000   0.07166040830361084\n",
            "156  /  1000   0.06627867956577264\n",
            "157  /  1000   0.06114493307602363\n",
            "158  /  1000   0.05630650100316037\n",
            "159  /  1000   0.05179726512093259\n",
            "160  /  1000   0.04763652289133659\n",
            "161  /  1000   0.04382959368227787\n",
            "162  /  1000   0.04036981607130748\n",
            "163  /  1000   0.03724135145494381\n",
            "164  /  1000   0.034422184418686066\n",
            "165  /  1000   0.03188685003673847\n",
            "166  /  1000   0.02960862581377533\n",
            "167  /  1000   0.027561114738871552\n",
            "168  /  1000   0.025719271717580865\n",
            "169  /  1000   0.02405998497015441\n",
            "170  /  1000   0.022562335084893952\n",
            "171  /  1000   0.021207639431017875\n",
            "172  /  1000   0.019979365319071442\n",
            "173  /  1000   0.018862971192961694\n",
            "174  /  1000   0.017845715280004396\n",
            "175  /  1000   0.01691645636504695\n",
            "176  /  1000   0.016065461106231936\n",
            "177  /  1000   0.015284225552302244\n",
            "178  /  1000   0.014565314262482667\n",
            "179  /  1000   0.01390221786912904\n",
            "180  /  1000   0.013289228471913923\n",
            "181  /  1000   0.012721331501625044\n",
            "182  /  1000   0.012194112368729037\n",
            "183  /  1000   0.011703676139752487\n",
            "184  /  1000   0.011246578551423874\n",
            "185  /  1000   0.010819766809496496\n",
            "186  /  1000   0.010420528785000894\n",
            "187  /  1000   0.010046449391583806\n",
            "188  /  1000   0.00969537309066867\n",
            "189  /  1000   0.009365371620071703\n",
            "190  /  1000   0.009054716173979058\n",
            "191  /  1000   0.008761853377577141\n",
            "192  /  1000   0.008485384499068686\n",
            "193  /  1000   0.008224047426782583\n",
            "194  /  1000   0.007976701011292647\n",
            "195  /  1000   0.007742311433578939\n",
            "196  /  1000   0.007519940311876858\n",
            "197  /  1000   0.0073087343033780405\n",
            "198  /  1000   0.007107915993622743\n",
            "199  /  1000   0.006916775897330527\n",
            "200  /  1000   0.006734665420471365\n",
            "201  /  1000   0.006560990655366488\n",
            "202  /  1000   0.006395206899177698\n",
            "203  /  1000   0.006236813801850535\n",
            "204  /  1000   0.006085351062879182\n",
            "205  /  1000   0.0059403946075468304\n",
            "206  /  1000   0.00580155318288389\n",
            "207  /  1000   0.005668465321750116\n",
            "208  /  1000   0.005540796630407818\n",
            "209  /  1000   0.005418237360900288\n",
            "210  /  1000   0.005300500234639824\n",
            "211  /  1000   0.005187318487975456\n",
            "212  /  1000   0.005078444114259805\n",
            "213  /  1000   0.004973646280163097\n",
            "214  /  1000   0.004872709896765672\n",
            "215  /  1000   0.004775434328365299\n",
            "216  /  1000   0.004681632224016681\n",
            "217  /  1000   0.004591128458625993\n",
            "218  /  1000   0.0045037591719901595\n",
            "219  /  1000   0.00441937089553537\n",
            "220  /  1000   0.004337819757698044\n",
            "221  /  1000   0.00425897075992974\n",
            "222  /  1000   0.004182697116215822\n",
            "223  /  1000   0.004108879649792966\n",
            "224  /  1000   0.00403740624144877\n",
            "225  /  1000   0.003968171324400525\n",
            "226  /  1000   0.0039010754212897235\n",
            "227  /  1000   0.0038360247193057724\n",
            "228  /  1000   0.003772930679872192\n",
            "229  /  1000   0.0037117096797005724\n",
            "230  /  1000   0.0036522826803469426\n",
            "231  /  1000   0.003594574923696742\n",
            "232  /  1000   0.0035385156510642527\n",
            "233  /  1000   0.003484037843822711\n",
            "234  /  1000   0.003431077983686378\n",
            "235  /  1000   0.0033795758309495506\n",
            "236  /  1000   0.0033294742191499493\n",
            "237  /  1000   0.0032807188647709686\n",
            "238  /  1000   0.003233258190727295\n",
            "239  /  1000   0.003187043162495849\n",
            "240  /  1000   0.003142027135859123\n",
            "241  /  1000   0.0030981657153223508\n",
            "242  /  1000   0.0030554166223506715\n",
            "243  /  1000   0.0030137395726492493\n",
            "244  /  1000   0.0029730961617777784\n",
            "245  /  1000   0.0029334497584533044\n",
            "246  /  1000   0.0028947654049510827\n",
            "247  /  1000   0.0028570097240642744\n",
            "248  /  1000   0.0028201508321288675\n",
            "249  /  1000   0.0027841582576621964\n",
            "250  /  1000   0.00274900286520092\n",
            "251  /  1000   0.0027146567839584214\n",
            "252  /  1000   0.002681093340953184\n",
            "253  /  1000   0.0026482869982876124\n",
            "254  /  1000   0.0026162132942826365\n",
            "255  /  1000   0.0025848487881969333\n",
            "256  /  1000   0.0025541710082810504\n",
            "257  /  1000   0.0025241584029361145\n",
            "258  /  1000   0.002494790294764808\n",
            "259  /  1000   0.0024660468373184806\n",
            "260  /  1000   0.0024379089743593757\n",
            "261  /  1000   0.0024103584014702763\n",
            "262  /  1000   0.0023833775298569056\n",
            "263  /  1000   0.002356949452199394\n",
            "264  /  1000   0.002331057910420068\n",
            "265  /  1000   0.002305687265244226\n",
            "266  /  1000   0.0022808224674396994\n",
            "267  /  1000   0.002256449030628989\n",
            "268  /  1000   0.002232553005575482\n",
            "269  /  1000   0.0022091209558520813\n",
            "270  /  1000   0.0021861399348070093\n",
            "271  /  1000   0.0021635974637475254\n",
            "272  /  1000   0.0021414815112676573\n",
            "273  /  1000   0.002119780473651219\n",
            "274  /  1000   0.0020984831562857733\n",
            "275  /  1000   0.002077578756027934\n",
            "276  /  1000   0.002057056844463917\n",
            "277  /  1000   0.0020369073520133596\n",
            "278  /  1000   0.0020171205528274924\n",
            "279  /  1000   0.001997687050436258\n",
            "280  /  1000   0.001978597764101595\n",
            "281  /  1000   0.0019598439158371042\n",
            "282  /  1000   0.0019414170180566586\n",
            "283  /  1000   0.0019233088618170295\n",
            "284  /  1000   0.00190551150562166\n",
            "285  /  1000   0.001888017264754833\n",
            "286  /  1000   0.0018708187011174289\n",
            "287  /  1000   0.0018539086135371345\n",
            "288  /  1000   0.0018372800285275884\n",
            "289  /  1000   0.001820926191472727\n",
            "290  /  1000   0.001804840558213687\n",
            "291  /  1000   0.0017890167870172479\n",
            "292  /  1000   0.00177344873090584\n",
            "293  /  1000   0.0017581304303305376\n",
            "294  /  1000   0.0017430561061692262\n",
            "295  /  1000   0.0017282201530335393\n",
            "296  /  1000   0.0017136171328687617\n",
            "297  /  1000   0.0016992417688320375\n",
            "298  /  1000   0.0016850889394349803\n",
            "299  /  1000   0.00167115367293745\n",
            "300  /  1000   0.001657431141980226\n",
            "301  /  1000   0.0016439166584448258\n",
            "302  /  1000   0.0016306056685293615\n",
            "303  /  1000   0.0016174937480301031\n",
            "304  /  1000   0.0016045765978186953\n",
            "305  /  1000   0.0015918500395059136\n",
            "306  /  1000   0.0015793100112828891\n",
            "307  /  1000   0.0015669525639315674\n",
            "308  /  1000   0.0015547738569964822\n",
            "309  /  1000   0.0015427701551102898\n",
            "310  /  1000   0.0015309378244659296\n",
            "311  /  1000   0.0015192733294287805\n",
            "312  /  1000   0.0015077732292823464\n",
            "313  /  1000   0.0014964341751013783\n",
            "314  /  1000   0.0014852529067468012\n",
            "315  /  1000   0.0014742262499768434\n",
            "316  /  1000   0.0014633511136693338\n",
            "317  /  1000   0.0014526244871501401\n",
            "318  /  1000   0.0014420434376230997\n",
            "319  /  1000   0.001431605107697044\n",
            "320  /  1000   0.0014213067130056595\n",
            "321  /  1000   0.0014111455399161601\n",
            "322  /  1000   0.0014011189433229805\n",
            "323  /  1000   0.0013912243445228453\n",
            "324  /  1000   0.0013814592291677642\n",
            "325  /  1000   0.001371821145292625\n",
            "326  /  1000   0.0013623077014143427\n",
            "327  /  1000   0.0013529165646994307\n",
            "328  /  1000   0.0013436454591973142\n",
            "329  /  1000   0.0013344921641365703\n",
            "330  /  1000   0.0013254545122814917\n",
            "331  /  1000   0.001316530388346634\n",
            "332  /  1000   0.0013077177274668408\n",
            "333  /  1000   0.0012990145137206286\n",
            "334  /  1000   0.001290418778704712\n",
            "335  /  1000   0.0012819286001576565\n",
            "336  /  1000   0.00127354210063073\n",
            "337  /  1000   0.0012652574462040105\n",
            "338  /  1000   0.001257072845246084\n",
            "339  /  1000   0.001248986547215546\n",
            "340  /  1000   0.0012409968415026701\n",
            "341  /  1000   0.0012331020563097924\n",
            "342  /  1000   0.0012253005575687719\n",
            "343  /  1000   0.0012175907478943018\n",
            "344  /  1000   0.001209971065571476\n",
            "345  /  1000   0.0012024399835764959\n",
            "346  /  1000   0.0011949960086292473\n",
            "347  /  1000   0.0011876376802764112\n",
            "348  /  1000   0.0011803635700041466\n",
            "349  /  1000   0.0011731722803791594\n",
            "350  /  1000   0.001166062444217097\n",
            "351  /  1000   0.0011590327237773362\n",
            "352  /  1000   0.001152081809983104\n",
            "353  /  1000   0.0011452084216660857\n",
            "354  /  1000   0.0011384113048346202\n",
            "355  /  1000   0.0011316892319646022\n",
            "356  /  1000   0.00112504100131231\n",
            "357  /  1000   0.0011184654362483499\n",
            "358  /  1000   0.0011119613846120066\n",
            "359  /  1000   0.0011055277180852397\n",
            "360  /  1000   0.0010991633315856502\n",
            "361  /  1000   0.0010928671426777697\n",
            "362  /  1000   0.0010866380910020154\n",
            "363  /  1000   0.0010804751377206706\n",
            "364  /  1000   0.0010743772649804177\n",
            "365  /  1000   0.001068343475390673\n",
            "366  /  1000   0.0010623727915173983\n",
            "367  /  1000   0.0010564642553916176\n",
            "368  /  1000   0.0010506169280324075\n",
            "369  /  1000   0.0010448298889836644\n",
            "370  /  1000   0.0010391022358642618\n",
            "371  /  1000   0.0010334330839312062\n",
            "372  /  1000   0.0010278215656552522\n",
            "373  /  1000   0.0010222668303086324\n",
            "374  /  1000   0.0010167680435645113\n",
            "375  /  1000   0.0010113243871077227\n",
            "376  /  1000   0.0010059350582565137\n",
            "377  /  1000   0.0010005992695947944\n",
            "378  /  1000   0.0009953162486147416\n",
            "379  /  1000   0.0009900852373692336\n",
            "380  /  1000   0.000984905492133938\n",
            "381  /  1000   0.0009797762830787067\n",
            "382  /  1000   0.0009746968939479258\n",
            "383  /  1000   0.0009696666217496128\n",
            "384  /  1000   0.0009646847764529747\n",
            "385  /  1000   0.0009597506806940995\n",
            "386  /  1000   0.0009548636694895992\n",
            "387  /  1000   0.0009500230899579151\n",
            "388  /  1000   0.0009452283010480954\n",
            "389  /  1000   0.0009404786732757128\n",
            "390  /  1000   0.0009357735884658619\n",
            "391  /  1000   0.0009311124395028357\n",
            "392  /  1000   0.0009264946300864598\n",
            "393  /  1000   0.0009219195744947125\n",
            "394  /  1000   0.0009173866973525859\n",
            "395  /  1000   0.0009128954334069146\n",
            "396  /  1000   0.0009084452273069977\n",
            "397  /  1000   0.000904035533390904\n",
            "398  /  1000   0.0008996658154771973\n",
            "399  /  1000   0.000895335546662013\n",
            "400  /  1000   0.0008910442091212472\n",
            "401  /  1000   0.0008867912939178041\n",
            "402  /  1000   0.0008825763008136287\n",
            "403  /  1000   0.0008783987380865256\n",
            "404  /  1000   0.0008742581223514884\n",
            "405  /  1000   0.0008701539783865334\n",
            "406  /  1000   0.0008660858389628033\n",
            "407  /  1000   0.0008620532446789015\n",
            "408  /  1000   0.0008580557437992738\n",
            "409  /  1000   0.0008540928920965698\n",
            "410  /  1000   0.0008501642526978403\n",
            "411  /  1000   0.0008462693959344622\n",
            "412  /  1000   0.0008424078991957342\n",
            "413  /  1000   0.0008385793467859474\n",
            "414  /  1000   0.0008347833297849412\n",
            "415  /  1000   0.0008310194459119707\n",
            "416  /  1000   0.0008272872993928114\n",
            "417  /  1000   0.0008235865008300604\n",
            "418  /  1000   0.0008199166670764621\n",
            "419  /  1000   0.0008162774211112265\n",
            "420  /  1000   0.0008126683919192935\n",
            "421  /  1000   0.0008090892143733566\n",
            "422  /  1000   0.0008055395291186886\n",
            "423  /  1000   0.0008020189824606349\n",
            "424  /  1000   0.0007985272262546709\n",
            "425  /  1000   0.0007950639177990451\n",
            "426  /  1000   0.0007916287197298372\n",
            "427  /  1000   0.0007882212999184826\n",
            "428  /  1000   0.0007848413313715517\n",
            "429  /  1000   0.0007814884921328728\n",
            "430  /  1000   0.0007781624651878551\n",
            "431  /  1000   0.0007748629383699175\n",
            "432  /  1000   0.0007715896042691034\n",
            "433  /  1000   0.0007683421601426884\n",
            "434  /  1000   0.000765120307827773\n",
            "435  /  1000   0.0007619237536558687\n",
            "436  /  1000   0.0007587522083693303\n",
            "437  /  1000   0.0007556053870396394\n",
            "438  /  1000   0.0007524830089875105\n",
            "439  /  1000   0.000749384797704732\n",
            "440  /  1000   0.000746310480777693\n",
            "441  /  1000   0.0007432597898126173\n",
            "442  /  1000   0.0007402324603623898\n",
            "443  /  1000   0.0007372282318549545\n",
            "444  /  1000   0.0007342468475233053\n",
            "445  /  1000   0.0007312880543369123\n",
            "446  /  1000   0.0007283516029346546\n",
            "447  /  1000   0.000725437247559207\n",
            "448  /  1000   0.0007225447459927361\n",
            "449  /  1000   0.0007196738594940692\n",
            "450  /  1000   0.0007168243527370755\n",
            "451  /  1000   0.0007139959937504462\n",
            "452  /  1000   0.000711188553858652\n",
            "453  /  1000   0.0007084018076242042\n",
            "454  /  1000   0.0007056355327910554\n",
            "455  /  1000   0.0007028895102292237\n",
            "456  /  1000   0.0007001635238805265\n",
            "457  /  1000   0.000697457360705471\n",
            "458  /  1000   0.0006947708106311867\n",
            "459  /  1000   0.0006921036665004791\n",
            "460  /  1000   0.0006894557240218586\n",
            "461  /  1000   0.0006868267817206619\n",
            "462  /  1000   0.000684216640891094\n",
            "463  /  1000   0.0006816251055492913\n",
            "464  /  1000   0.0006790519823872956\n",
            "465  /  1000   0.000676497080727969\n",
            "466  /  1000   0.0006739602124808121\n",
            "467  /  1000   0.0006714411920986557\n",
            "468  /  1000   0.0006689398365352204\n",
            "469  /  1000   0.0006664559652035123\n",
            "470  /  1000   0.0006639893999350519\n",
            "471  /  1000   0.0006615399649398761\n",
            "472  /  1000   0.0006591074867673798\n",
            "473  /  1000   0.0006566917942678622\n",
            "474  /  1000   0.0006542927185548716\n",
            "475  /  1000   0.0006519100929682553\n",
            "476  /  1000   0.0006495437530379375\n",
            "477  /  1000   0.000647193536448388\n",
            "478  /  1000   0.0006448592830037984\n",
            "479  /  1000   0.0006425408345939038\n",
            "480  /  1000   0.0006402380351604539\n",
            "481  /  1000   0.0006379507306643503\n",
            "482  /  1000   0.0006356787690534013\n",
            "483  /  1000   0.0006334220002306698\n",
            "484  /  1000   0.0006311802760234505\n",
            "485  /  1000   0.0006289534501527856\n",
            "486  /  1000   0.0006267413782036331\n",
            "487  /  1000   0.0006245439175954951\n",
            "488  /  1000   0.0006223609275536711\n",
            "489  /  1000   0.0006201922690810206\n",
            "490  /  1000   0.0006180378049302532\n",
            "491  /  1000   0.0006158973995767142\n",
            "492  /  1000   0.0006137709191917072\n",
            "493  /  1000   0.0006116582316162784\n",
            "494  /  1000   0.0006095592063355017\n",
            "495  /  1000   0.0006074737144532153\n",
            "496  /  1000   0.0006054016286672424\n",
            "497  /  1000   0.0006033428232450419\n",
            "498  /  1000   0.0006012971739998218\n",
            "499  /  1000   0.0005992645582670555\n",
            "500  /  1000   0.0005972448548814585\n",
            "501  /  1000   0.000595237944154348\n",
            "502  /  1000   0.0005932437078514256\n",
            "503  /  1000   0.0005912620291709535\n",
            "504  /  1000   0.0005892927927223183\n",
            "505  /  1000   0.0005873358845049718\n",
            "506  /  1000   0.000585391191887763\n",
            "507  /  1000   0.0005834586035886156\n",
            "508  /  1000   0.0005815380096545691\n",
            "509  /  1000   0.0005796293014421726\n",
            "510  /  1000   0.0005777323715982324\n",
            "511  /  1000   0.0005758471140408793\n",
            "512  /  1000   0.0005739734239409741\n",
            "513  /  1000   0.000572111197703845\n",
            "514  /  1000   0.0005702603329513034\n",
            "515  /  1000   0.000568420728504047\n",
            "516  /  1000   0.0005665922843642756\n",
            "517  /  1000   0.0005647749016986739\n",
            "518  /  1000   0.00056296848282165\n",
            "519  /  1000   0.0005611729311788829\n",
            "520  /  1000   0.0005593881513311267\n",
            "521  /  1000   0.000557614048938319\n",
            "522  /  1000   0.0005558505307439184\n",
            "523  /  1000   0.0005540975045595707\n",
            "524  /  1000   0.0005523548792499448\n",
            "525  /  1000   0.0005506225647179235\n",
            "526  /  1000   0.0005489004718899557\n",
            "527  /  1000   0.0005471885127017103\n",
            "528  /  1000   0.0005454866000839444\n",
            "529  /  1000   0.000543794647948613\n",
            "530  /  1000   0.0005421125711752023\n",
            "531  /  1000   0.0005404402855973109\n",
            "532  /  1000   0.0005387777079894229\n",
            "533  /  1000   0.000537124756053922\n",
            "534  /  1000   0.0005354813484082928\n",
            "535  /  1000   0.0005338474045725854\n",
            "536  /  1000   0.0005322228449570025\n",
            "537  /  1000   0.0005306075908497708\n",
            "538  /  1000   0.0005290015644051567\n",
            "539  /  1000   0.0005274046886316957\n",
            "540  /  1000   0.0005258168873806043\n",
            "541  /  1000   0.0005242380853343966\n",
            "542  /  1000   0.0005226682079956562\n",
            "543  /  1000   0.0005211071816760174\n",
            "544  /  1000   0.0005195549334852934\n",
            "545  /  1000   0.0005180113913208042\n",
            "546  /  1000   0.0005164764838568584\n",
            "547  /  1000   0.0005149501405344105\n",
            "548  /  1000   0.0005134322915508691\n",
            "549  /  1000   0.0005119228678500874\n",
            "550  /  1000   0.0005104218011124943\n",
            "551  /  1000   0.0005089290237453741\n",
            "552  /  1000   0.0005074444688733357\n",
            "553  /  1000   0.0005059680703288755\n",
            "554  /  1000   0.0005044997626431415\n",
            "555  /  1000   0.0005030394810368039\n",
            "556  /  1000   0.000501587161411082\n",
            "557  /  1000   0.000500142740338909\n",
            "558  /  1000   0.0004987061550562324\n",
            "559  /  1000   0.0004972773434534581\n",
            "560  /  1000   0.0004958562440669908\n",
            "561  /  1000   0.0004944427960709608\n",
            "562  /  1000   0.0004930369392690268\n",
            "563  /  1000   0.0004916386140863217\n",
            "564  /  1000   0.0004902477615615381\n",
            "565  /  1000   0.0004888643233391025\n",
            "566  /  1000   0.00048748824166149556\n",
            "567  /  1000   0.00048611945936166315\n",
            "568  /  1000   0.0004847579198555668\n",
            "569  /  1000   0.00048340356713482904\n",
            "570  /  1000   0.00048205634575949885\n",
            "571  /  1000   0.00048071620085091404\n",
            "572  /  1000   0.00047938307808468173\n",
            "573  /  1000   0.0004780569236837611\n",
            "574  /  1000   0.0004767376844116312\n",
            "575  /  1000   0.00047542530756559845\n",
            "576  /  1000   0.0004741197409701664\n",
            "577  /  1000   0.0004728209329705113\n",
            "578  /  1000   0.00047152883242607634\n",
            "579  /  1000   0.0004702433887042181\n",
            "580  /  1000   0.0004689645516740005\n",
            "581  /  1000   0.0004676922717000196\n",
            "582  /  1000   0.00046642649963637186\n",
            "583  /  1000   0.00046516718682066967\n",
            "584  /  1000   0.00046391428506816976\n",
            "585  /  1000   0.0004626677466659764\n",
            "586  /  1000   0.00046142752436732624\n",
            "587  /  1000   0.0004601935713859496\n",
            "588  /  1000   0.00045896584139055356\n",
            "589  /  1000   0.00045774428849930236\n",
            "590  /  1000   0.00045652886727448334\n",
            "591  /  1000   0.0004553195327171339\n",
            "592  /  1000   0.0004541162402618584\n",
            "593  /  1000   0.0004529189457716168\n",
            "594  /  1000   0.00045172760553266537\n",
            "595  /  1000   0.00045054217624952367\n",
            "596  /  1000   0.00044936261504002984\n",
            "597  /  1000   0.0004481888794304594\n",
            "598  /  1000   0.00044702092735072216\n",
            "599  /  1000   0.00044585871712960574\n",
            "600  /  1000   0.00044470220749012035\n",
            "601  /  1000   0.0004435513575448608\n",
            "602  /  1000   0.0004424061267914895\n",
            "603  /  1000   0.0004412664751082154\n",
            "604  /  1000   0.0004401323627494249\n",
            "605  /  1000   0.0004390037503412592\n",
            "606  /  1000   0.0004378805988773692\n",
            "607  /  1000   0.0004367628697146351\n",
            "608  /  1000   0.000435650524569012\n",
            "609  /  1000   0.0004345435255113679\n",
            "610  /  1000   0.00043344183496347175\n",
            "611  /  1000   0.0004323454156939093\n",
            "612  /  1000   0.00043125423081419355\n",
            "613  /  1000   0.00043016824377479904\n",
            "614  /  1000   0.00042908741836135514\n",
            "615  /  1000   0.00042801171869081444\n",
            "616  /  1000   0.0004269411092077343\n",
            "617  /  1000   0.00042587555468053255\n",
            "618  /  1000   0.0004248150201979046\n",
            "619  /  1000   0.00042375947116514515\n",
            "620  /  1000   0.00042270887330067303\n",
            "621  /  1000   0.0004216631926324643\n",
            "622  /  1000   0.00042062239549464506\n",
            "623  /  1000   0.00041958644852402944\n",
            "624  /  1000   0.0004185553186568141\n",
            "625  /  1000   0.0004175289731251857\n",
            "626  /  1000   0.0004165073794541107\n",
            "627  /  1000   0.00041549050545804203\n",
            "628  /  1000   0.0004144783192377829\n",
            "629  /  1000   0.0004134707891772817\n",
            "630  /  1000   0.00041246788394057207\n",
            "631  /  1000   0.0004114695724686571\n",
            "632  /  1000   0.00041047582397653516\n",
            "633  /  1000   0.00040948660795014517\n",
            "634  /  1000   0.00040850189414349386\n",
            "635  /  1000   0.00040752165257565876\n",
            "636  /  1000   0.0004065458535279956\n",
            "637  /  1000   0.00040557446754122954\n",
            "638  /  1000   0.0004046074654127259\n",
            "639  /  1000   0.0004036448181936409\n",
            "640  /  1000   0.000402686497186289\n",
            "641  /  1000   0.0004017324739413477\n",
            "642  /  1000   0.0004007827202553032\n",
            "643  /  1000   0.0003998372081677096\n",
            "644  /  1000   0.00039889590995871983\n",
            "645  /  1000   0.00039795879814639453\n",
            "646  /  1000   0.0003970258454843161\n",
            "647  /  1000   0.0003960970249589418\n",
            "648  /  1000   0.0003951723097873015\n",
            "649  /  1000   0.00039425167341440055\n",
            "650  /  1000   0.0003933350895109712\n",
            "651  /  1000   0.000392422531970958\n",
            "652  /  1000   0.00039151397490932044\n",
            "653  /  1000   0.00039060939265956376\n",
            "654  /  1000   0.0003897087597716188\n",
            "655  /  1000   0.00038881205100941706\n",
            "656  /  1000   0.00038791924134884\n",
            "657  /  1000   0.0003870303059753285\n",
            "658  /  1000   0.0003861452202819089\n",
            "659  /  1000   0.00038526395986684497\n",
            "660  /  1000   0.00038438650053172893\n",
            "661  /  1000   0.000383512818279155\n",
            "662  /  1000   0.000382642889310906\n",
            "663  /  1000   0.00038177669002564726\n",
            "664  /  1000   0.0003809141970171674\n",
            "665  /  1000   0.00038005538707212914\n",
            "666  /  1000   0.00037920023716836926\n",
            "667  /  1000   0.000378348724472657\n",
            "668  /  1000   0.0003775008263391004\n",
            "669  /  1000   0.0003766565203068954\n",
            "670  /  1000   0.0003758157840988171\n",
            "671  /  1000   0.0003749785956189911\n",
            "672  /  1000   0.00037414493295145337\n",
            "673  /  1000   0.0003733147743579355\n",
            "674  /  1000   0.0003724880982764932\n",
            "675  /  1000   0.000371664883319318\n",
            "676  /  1000   0.0003708451082714306\n",
            "677  /  1000   0.00037002875208849863\n",
            "678  /  1000   0.00036921579389562236\n",
            "679  /  1000   0.00036840621298511907\n",
            "680  /  1000   0.000367599988815435\n",
            "681  /  1000   0.00036679710100889984\n",
            "682  /  1000   0.0003659975293507318\n",
            "683  /  1000   0.00036520125378676916\n",
            "684  /  1000   0.0003644082544225792\n",
            "685  /  1000   0.0003636185115211717\n",
            "686  /  1000   0.00036283200550219516\n",
            "687  /  1000   0.00036204871693962313\n",
            "688  /  1000   0.0003612686265610775\n",
            "689  /  1000   0.0003604917152454413\n",
            "690  /  1000   0.00035971796402231744\n",
            "691  /  1000   0.0003589473540695859\n",
            "692  /  1000   0.00035817986671299925\n",
            "693  /  1000   0.00035741548342364793\n",
            "694  /  1000   0.00035665418581772924\n",
            "695  /  1000   0.0003558959556539068\n",
            "696  /  1000   0.00035514077483323386\n",
            "697  /  1000   0.00035438862539642814\n",
            "698  /  1000   0.0003536394895239697\n",
            "699  /  1000   0.0003528933495332254\n",
            "700  /  1000   0.00035215018787877425\n",
            "701  /  1000   0.0003514099871493686\n",
            "702  /  1000   0.0003506727300684871\n",
            "703  /  1000   0.0003499383994911082\n",
            "704  /  1000   0.00034920697840453053\n",
            "705  /  1000   0.00034847844992492793\n",
            "706  /  1000   0.00034775279729844634\n",
            "707  /  1000   0.00034703000389752457\n",
            "708  /  1000   0.000346310053222299\n",
            "709  /  1000   0.00034559292889666784\n",
            "710  /  1000   0.00034487861467001266\n",
            "711  /  1000   0.00034416709441297086\n",
            "712  /  1000   0.00034345835211953735\n",
            "713  /  1000   0.00034275237190247907\n",
            "714  /  1000   0.000342049137995875\n",
            "715  /  1000   0.00034134863475010946\n",
            "716  /  1000   0.00034065084663491583\n",
            "717  /  1000   0.0003399557582338821\n",
            "718  /  1000   0.00033926335424807583\n",
            "719  /  1000   0.00033857361948996654\n",
            "720  /  1000   0.00033788653888771383\n",
            "721  /  1000   0.0003372020974784572\n",
            "722  /  1000   0.00033652028041330963\n",
            "723  /  1000   0.0003358410729499348\n",
            "724  /  1000   0.0003351644604583634\n",
            "725  /  1000   0.0003344904284127328\n",
            "726  /  1000   0.0003338189623980439\n",
            "727  /  1000   0.0003331500481009359\n",
            "728  /  1000   0.0003324836713175168\n",
            "729  /  1000   0.0003318198179430388\n",
            "730  /  1000   0.000331158473980958\n",
            "731  /  1000   0.00033049962553132503\n",
            "732  /  1000   0.0003298432588012563\n",
            "733  /  1000   0.00032918936009186374\n",
            "734  /  1000   0.00032853791581033344\n",
            "735  /  1000   0.0003278889124551731\n",
            "736  /  1000   0.0003272423366301294\n",
            "737  /  1000   0.00032659817502750133\n",
            "738  /  1000   0.00032595641444418716\n",
            "739  /  1000   0.00032531704176273134\n",
            "740  /  1000   0.0003246800439698486\n",
            "741  /  1000   0.0003240454081348547\n",
            "742  /  1000   0.00032341312143103443\n",
            "743  /  1000   0.00032278317111106004\n",
            "744  /  1000   0.00032215554453161015\n",
            "745  /  1000   0.0003215302291253525\n",
            "746  /  1000   0.00032090721242929827\n",
            "747  /  1000   0.00032028648205277316\n",
            "748  /  1000   0.0003196680257101412\n",
            "749  /  1000   0.0003190518311841115\n",
            "750  /  1000   0.0003184378863634988\n",
            "751  /  1000   0.00031782617920116503\n",
            "752  /  1000   0.00031721669775757497\n",
            "753  /  1000   0.0003166094301525249\n",
            "754  /  1000   0.00031600436461543235\n",
            "755  /  1000   0.0003154014894298419\n",
            "756  /  1000   0.00031480079299152185\n",
            "757  /  1000   0.000314202263744592\n",
            "758  /  1000   0.0003136058902486896\n",
            "759  /  1000   0.00031301166110532926\n",
            "760  /  1000   0.00031241956503564135\n",
            "761  /  1000   0.00031182959079537645\n",
            "762  /  1000   0.00031124172726490625\n",
            "763  /  1000   0.00031065596335100987\n",
            "764  /  1000   0.00031007228809119743\n",
            "765  /  1000   0.00030949069054005737\n",
            "766  /  1000   0.0003089111598902655\n",
            "767  /  1000   0.0003083336853409479\n",
            "768  /  1000   0.0003077582562381404\n",
            "769  /  1000   0.0003071848619221743\n",
            "770  /  1000   0.00030661349189082295\n",
            "771  /  1000   0.00030604413562218194\n",
            "772  /  1000   0.0003054767827643567\n",
            "773  /  1000   0.0003049114229296484\n",
            "774  /  1000   0.0003043480459153214\n",
            "775  /  1000   0.0003037866414641715\n",
            "776  /  1000   0.00030322719952170655\n",
            "777  /  1000   0.00030266970995733406\n",
            "778  /  1000   0.0003021141628641842\n",
            "779  /  1000   0.0003015605482341461\n",
            "780  /  1000   0.00030100885630772066\n",
            "781  /  1000   0.00030045907719485906\n",
            "782  /  1000   0.00029991120128358126\n",
            "783  /  1000   0.0002993652187971385\n",
            "784  /  1000   0.00029882112027168286\n",
            "785  /  1000   0.0002982788960385823\n",
            "786  /  1000   0.00029773853678329346\n",
            "787  /  1000   0.0002972000329395894\n",
            "788  /  1000   0.0002966633753440639\n",
            "789  /  1000   0.0002961285545265676\n",
            "790  /  1000   0.0002955955614774113\n",
            "791  /  1000   0.00029506438681545385\n",
            "792  /  1000   0.0002945350216882014\n",
            "793  /  1000   0.00029400745679555987\n",
            "794  /  1000   0.0002934816834467825\n",
            "795  /  1000   0.0002929576924137546\n",
            "796  /  1000   0.00029243547517328615\n",
            "797  /  1000   0.0002919150225589056\n",
            "798  /  1000   0.0002913963262222763\n",
            "799  /  1000   0.00029087937704666127\n",
            "800  /  1000   0.0002903641668676645\n",
            "801  /  1000   0.000289850686604503\n",
            "802  /  1000   0.00028933892828792937\n",
            "803  /  1000   0.0002888288828570929\n",
            "804  /  1000   0.0002883205425516178\n",
            "805  /  1000   0.00028781389831188456\n",
            "806  /  1000   0.00028730894260312897\n",
            "807  /  1000   0.0002868056663450191\n",
            "808  /  1000   0.00028630406224876276\n",
            "809  /  1000   0.00028580412118748796\n",
            "810  /  1000   0.00028530583614304843\n",
            "811  /  1000   0.00028480919791154036\n",
            "812  /  1000   0.0002843141997753185\n",
            "813  /  1000   0.00028382083241735467\n",
            "814  /  1000   0.00028332908945656176\n",
            "815  /  1000   0.00028283896141995064\n",
            "816  /  1000   0.000282350442306513\n",
            "817  /  1000   0.00028186352243633945\n",
            "818  /  1000   0.00028137819624099154\n",
            "819  /  1000   0.0002808944537729157\n",
            "820  /  1000   0.00028041228995950076\n",
            "821  /  1000   0.000279931694513059\n",
            "822  /  1000   0.0002794526629330513\n",
            "823  /  1000   0.0002789751845049673\n",
            "824  /  1000   0.00027849925539223143\n",
            "825  /  1000   0.00027802486434970144\n",
            "826  /  1000   0.00027755200831551524\n",
            "827  /  1000   0.0002770806753894252\n",
            "828  /  1000   0.0002766108634177985\n",
            "829  /  1000   0.0002761425596958423\n",
            "830  /  1000   0.0002756757631391783\n",
            "831  /  1000   0.0002752104600588326\n",
            "832  /  1000   0.00027474665063395733\n",
            "833  /  1000   0.00027428431997525215\n",
            "834  /  1000   0.00027382346975989567\n",
            "835  /  1000   0.00027336408363790417\n",
            "836  /  1000   0.00027290616506768403\n",
            "837  /  1000   0.0002724496959246637\n",
            "838  /  1000   0.00027199468179067737\n",
            "839  /  1000   0.0002715411023877416\n",
            "840  /  1000   0.00027108896583487264\n",
            "841  /  1000   0.0002706382492430778\n",
            "842  /  1000   0.00027018896376914124\n",
            "843  /  1000   0.00026974108335983877\n",
            "844  /  1000   0.00026929462281573865\n",
            "845  /  1000   0.0002688495522499919\n",
            "846  /  1000   0.0002684058908411045\n",
            "847  /  1000   0.0002679636040579571\n",
            "848  /  1000   0.00026752271634697015\n",
            "849  /  1000   0.0002670831875502612\n",
            "850  /  1000   0.00026664504846179976\n",
            "851  /  1000   0.00026620825210521776\n",
            "852  /  1000   0.0002657728369326273\n",
            "853  /  1000   0.00026533874770252\n",
            "854  /  1000   0.00026490603211727556\n",
            "855  /  1000   0.0002644746249127651\n",
            "856  /  1000   0.0002640445849770881\n",
            "857  /  1000   0.0002636158348867814\n",
            "858  /  1000   0.0002631884470702008\n",
            "859  /  1000   0.00026276232934474477\n",
            "860  /  1000   0.00026233757054543443\n",
            "861  /  1000   0.00026191406056493124\n",
            "862  /  1000   0.000261491908136973\n",
            "863  /  1000   0.0002610709813720632\n",
            "864  /  1000   0.0002606514131599488\n",
            "865  /  1000   0.00026023304512504326\n",
            "866  /  1000   0.00025981603950709877\n",
            "867  /  1000   0.0002594002057039974\n",
            "868  /  1000   0.00025898574164679654\n",
            "869  /  1000   0.00025857241749638674\n",
            "870  /  1000   0.0002581604746227325\n",
            "871  /  1000   0.0002577496353819959\n",
            "872  /  1000   0.00025734019405565045\n",
            "873  /  1000   0.000256931814716585\n",
            "874  /  1000   0.00025652485614769793\n",
            "875  /  1000   0.0002561189113138841\n",
            "876  /  1000   0.00025571441769009257\n",
            "877  /  1000   0.00025531088142569005\n",
            "878  /  1000   0.0002549088360750183\n",
            "879  /  1000   0.00025450768171978897\n",
            "880  /  1000   0.00025410806931304935\n",
            "881  /  1000   0.0002537092692554605\n",
            "882  /  1000   0.00025331207605780253\n",
            "883  /  1000   0.0002529156014564762\n",
            "884  /  1000   0.0002525208156401803\n",
            "885  /  1000   0.00025212663608175745\n",
            "886  /  1000   0.0002517342481154728\n",
            "887  /  1000   0.0002513423311942534\n",
            "888  /  1000   0.0002509523343279839\n",
            "889  /  1000   0.00025056264512948224\n",
            "890  /  1000   0.00025017503599966397\n",
            "891  /  1000   0.0002497875364664564\n",
            "892  /  1000   0.0002494023158522697\n",
            "893  /  1000   0.0002490169640059641\n",
            "894  /  1000   0.00024863413777668515\n",
            "895  /  1000   0.0002482508867647993\n",
            "896  /  1000   0.0002478704670695422\n",
            "897  /  1000   0.0002474892640003454\n",
            "898  /  1000   0.00024711127076682975\n",
            "899  /  1000   0.0002467320552892643\n",
            "900  /  1000   0.00024635651811883737\n",
            "901  /  1000   0.0002459792206989051\n",
            "902  /  1000   0.00024560618127294847\n",
            "903  /  1000   0.000245230721113528\n",
            "904  /  1000   0.00024486023626487015\n",
            "905  /  1000   0.00024448651881463966\n",
            "906  /  1000   0.00024411866447111925\n",
            "907  /  1000   0.00024374657847339967\n",
            "908  /  1000   0.00024338145475625854\n",
            "909  /  1000   0.00024301086880533114\n",
            "910  /  1000   0.00024264860667293193\n",
            "911  /  1000   0.0002422793652830606\n",
            "912  /  1000   0.00024192013526632282\n",
            "913  /  1000   0.00024155205453147666\n",
            "914  /  1000   0.00024119607833530471\n",
            "915  /  1000   0.000240828941389706\n",
            "916  /  1000   0.00024047650747150836\n",
            "917  /  1000   0.00024011006019081002\n",
            "918  /  1000   0.00023976154492983987\n",
            "919  /  1000   0.00023939549270215278\n",
            "920  /  1000   0.00023905138953029387\n",
            "921  /  1000   0.00023868539657488882\n",
            "922  /  1000   0.00023834635658798726\n",
            "923  /  1000   0.0002379800503670458\n",
            "924  /  1000   0.00023764693969078167\n",
            "925  /  1000   0.00023727992470180999\n",
            "926  /  1000   0.00023695390658350356\n",
            "927  /  1000   0.0002365857946465123\n",
            "928  /  1000   0.000236268448411001\n",
            "929  /  1000   0.0002358989171318018\n",
            "930  /  1000   0.00023559241260397515\n",
            "931  /  1000   0.00023522131105490422\n",
            "932  /  1000   0.00023492866711480074\n",
            "933  /  1000   0.00023455619961611882\n",
            "934  /  1000   0.00023428167126196762\n",
            "935  /  1000   0.00023390870918616366\n",
            "936  /  1000   0.0002336583720537681\n",
            "937  /  1000   0.00023328697418433268\n",
            "938  /  1000   0.00023306961395903127\n",
            "939  /  1000   0.00023270388517336178\n",
            "940  /  1000   0.00023253235964236618\n",
            "941  /  1000   0.00023217985697407496\n",
            "942  /  1000   0.00023207319293396133\n",
            "943  /  1000   0.00023174721591926153\n",
            "944  /  1000   0.00023173385087560188\n",
            "945  /  1000   0.00023145715959225967\n",
            "946  /  1000   0.00023157996844189069\n",
            "947  /  1000   0.00023139080678523044\n",
            "948  /  1000   0.00023171491060697494\n",
            "949  /  1000   0.00023167675386548165\n",
            "950  /  1000   0.00023230165641174928\n",
            "951  /  1000   0.00023251898070593082\n",
            "952  /  1000   0.00023359740924287163\n",
            "953  /  1000   0.0002342412052093823\n",
            "954  /  1000   0.000236008263413589\n",
            "955  /  1000   0.00023735732123329625\n",
            "956  /  1000   0.0002401753171999913\n",
            "957  /  1000   0.00024268301204862134\n",
            "958  /  1000   0.0002471096591821729\n",
            "959  /  1000   0.0002515118256096363\n",
            "960  /  1000   0.00025840219161769434\n",
            "961  /  1000   0.0002658906857284282\n",
            "962  /  1000   0.00027654518030183943\n",
            "963  /  1000   0.0002890448200748011\n",
            "964  /  1000   0.0003054133142441039\n",
            "965  /  1000   0.0003260167363546886\n",
            "966  /  1000   0.00035095396215724416\n",
            "967  /  1000   0.0003845843743074716\n",
            "968  /  1000   0.00042210420632194187\n",
            "969  /  1000   0.000476470922364106\n",
            "970  /  1000   0.0005318268915215085\n",
            "971  /  1000   0.0006186605348059134\n",
            "972  /  1000   0.0006978225667697982\n",
            "973  /  1000   0.0008341117400338135\n",
            "974  /  1000   0.0009417662303158358\n",
            "975  /  1000   0.0011500902514134086\n",
            "976  /  1000   0.0012848284354207748\n",
            "977  /  1000   0.0015908424919231438\n",
            "978  /  1000   0.0017366109924513672\n",
            "979  /  1000   0.002161032248344295\n",
            "980  /  1000   0.0022772392569617855\n",
            "981  /  1000   0.002821714578337815\n",
            "982  /  1000   0.002841672484328796\n",
            "983  /  1000   0.0034750773743518933\n",
            "984  /  1000   0.0033263659522361332\n",
            "985  /  1000   0.00398530792927942\n",
            "986  /  1000   0.0036298554663889795\n",
            "987  /  1000   0.004240182949310304\n",
            "988  /  1000   0.003702522928057076\n",
            "989  /  1000   0.004207964712392021\n",
            "990  /  1000   0.003562891945689746\n",
            "991  /  1000   0.003939848349821426\n",
            "992  /  1000   0.003273206876881167\n",
            "993  /  1000   0.003526866650192817\n",
            "994  /  1000   0.0029041682148217176\n",
            "995  /  1000   0.00305594413060297\n",
            "996  /  1000   0.0025130465117368535\n",
            "997  /  1000   0.0025891300478700892\n",
            "998  /  1000   0.0021375643771450368\n",
            "999  /  1000   0.0021620879805116736\n",
            "1000  /  1000   0.0017983664418074025\n"
          ]
        }
      ]
    },
    {
      "cell_type": "code",
      "source": [
        "result=[]\n",
        "\n",
        "for i in range(len(x_train)):\n",
        "  output=x_train[i]\n",
        "  for layer in network:\n",
        "    output=layer.forward_propagation(output)\n",
        "  result.append(output)\n",
        "\n",
        "result"
      ],
      "metadata": {
        "colab": {
          "base_uri": "https://localhost:8080/"
        },
        "id": "hvjnr2HDuRjj",
        "outputId": "50042058-1d43-45dc-ffd0-d4d804bb4d33"
      },
      "execution_count": null,
      "outputs": [
        {
          "output_type": "execute_result",
          "data": {
            "text/plain": [
              "[array([[-0.01034575]]),\n",
              " array([[0.97636602]]),\n",
              " array([[0.97625251]]),\n",
              " array([[-0.08144865]])]"
            ]
          },
          "metadata": {},
          "execution_count": 36
        }
      ]
    },
    {
      "cell_type": "markdown",
      "source": [
        "# **GMM**"
      ],
      "metadata": {
        "id": "gBRAGGFREtJM"
      }
    },
    {
      "cell_type": "code",
      "source": [
        "from sklearn.mixture import GaussianMixture\n",
        "import seaborn as sns\n",
        "\n",
        "X,y=datasets.make_blobs(n_samples=100,centers=4,cluster_std=0.5,random_state=1234)\n",
        "data=pd.DataFrame(X)\n",
        "data.columns=['X1','X2']\n",
        "data['cluster']=y\n",
        "\n",
        "\n",
        "plt.figure(figsize=(6,4))\n",
        "sns.scatterplot(data=data, \n",
        "                x=\"X1\",\n",
        "                y=\"X2\", \n",
        "                hue=\"cluster\",\n",
        "                palette=[\"red\",\"blue\",\"green\", \"purple\"])\n"
      ],
      "metadata": {
        "colab": {
          "base_uri": "https://localhost:8080/",
          "height": 297
        },
        "id": "LFraXDHgEwK3",
        "outputId": "293bf1ac-b009-490d-9dbd-c2a305029b2a"
      },
      "execution_count": null,
      "outputs": [
        {
          "output_type": "execute_result",
          "data": {
            "text/plain": [
              "<matplotlib.axes._subplots.AxesSubplot at 0x7f553eaa8410>"
            ]
          },
          "metadata": {},
          "execution_count": 84
        },
        {
          "output_type": "display_data",
          "data": {
            "text/plain": [
              "<Figure size 432x288 with 1 Axes>"
            ],
            "image/png": "[encoded data removed]"
          },
          "metadata": {
            "needs_background": "light"
          }
        }
      ]
    },
    {
      "cell_type": "code",
      "source": [
        "gmm=GaussianMixture(covariance_type=\"full\",n_components=3).fit(X)\n",
        "gmm.means_"
      ],
      "metadata": {
        "colab": {
          "base_uri": "https://localhost:8080/"
        },
        "id": "bcu2_Us_GU1D",
        "outputId": "0c68b3ba-8535-4b7a-8772-cf826f89c8c6"
      },
      "execution_count": null,
      "outputs": [
        {
          "output_type": "execute_result",
          "data": {
            "text/plain": [
              "array([[-6.0092843 ,  2.29097124],\n",
              "       [ 5.60232656, -4.50487241],\n",
              "       [-2.8272913 ,  5.77555544]])"
            ]
          },
          "metadata": {},
          "execution_count": 85
        }
      ]
    },
    {
      "cell_type": "code",
      "source": [
        "labels = gmm.predict(X)\n",
        "data[\"predicted_cluster\"]=labels\n",
        "sns.scatterplot(data=data, \n",
        "                x=\"X1\",\n",
        "                y=\"X2\", \n",
        "                hue=\"predicted_cluster\",\n",
        "                palette=[\"red\",\"blue\",\"green\"])"
      ],
      "metadata": {
        "colab": {
          "base_uri": "https://localhost:8080/",
          "height": 297
        },
        "id": "L_nIEAizG9BP",
        "outputId": "8f5e248f-6b43-4d74-ceaa-78702339e6e9"
      },
      "execution_count": null,
      "outputs": [
        {
          "output_type": "execute_result",
          "data": {
            "text/plain": [
              "<matplotlib.axes._subplots.AxesSubplot at 0x7f553a810190>"
            ]
          },
          "metadata": {},
          "execution_count": 86
        },
        {
          "output_type": "display_data",
          "data": {
            "text/plain": [
              "<Figure size 432x288 with 1 Axes>"
            ],
            "image/png": "[encoded data removed]"
          },
          "metadata": {
            "needs_background": "light"
          }
        }
      ]
    },
    {
      "cell_type": "markdown",
      "source": [
        "# **RBFN**\n",
        "\n",
        "https://scikit-learn.org/stable/modules/generated/sklearn.gaussian_process.kernels.RBF.html"
      ],
      "metadata": {
        "id": "Ul14nglGI_eS"
      }
    },
    {
      "cell_type": "code",
      "source": [
        "from sklearn.datasets import load_iris\n",
        "from sklearn.gaussian_process import GaussianProcessClassifier\n",
        "from sklearn.gaussian_process.kernels import RBF\n",
        "X, y = load_iris(return_X_y=True)\n",
        "\n",
        "kernel = 1.0 * RBF(1.0)\n",
        "\n",
        "gpc = GaussianProcessClassifier(kernel=kernel, random_state=0).fit(X, y)\n",
        "\n",
        "print(gpc.score(X, y))\n",
        "\n",
        "gpc.predict_proba(X[:2,:])"
      ],
      "metadata": {
        "colab": {
          "base_uri": "https://localhost:8080/"
        },
        "id": "KU8bz62NJCJH",
        "outputId": "0226561c-8ea1-4bbb-e81c-7ade6d0baf72"
      },
      "execution_count": 1,
      "outputs": [
        {
          "output_type": "stream",
          "name": "stdout",
          "text": [
            "0.9866666666666667\n"
          ]
        },
        {
          "output_type": "execute_result",
          "data": {
            "text/plain": [
              "array([[0.83548752, 0.03228706, 0.13222543],\n",
              "       [0.79064206, 0.06525643, 0.14410151]])"
            ]
          },
          "metadata": {},
          "execution_count": 1
        }
      ]
    },
    {
      "cell_type": "code",
      "source": [
        "X[1]"
      ],
      "metadata": {
        "colab": {
          "base_uri": "https://localhost:8080/"
        },
        "id": "xXlNaRiyJEVE",
        "outputId": "aec9d960-d685-44ab-f26e-b33c582796ac"
      },
      "execution_count": 3,
      "outputs": [
        {
          "output_type": "execute_result",
          "data": {
            "text/plain": [
              "array([4.9, 3. , 1.4, 0.2])"
            ]
          },
          "metadata": {},
          "execution_count": 3
        }
      ]
    },
    {
      "cell_type": "markdown",
      "source": [
        "# **MDP**\n",
        "https://medium.com/@ngao7/markov-decision-process-value-iteration-2d161d50a6ff\n"
      ],
      "metadata": {
        "id": "ACbZdzcpJeWe"
      }
    },
    {
      "cell_type": "code",
      "source": [
        "import numpy as np\n",
        "import matplotlib.pyplot as plt\n",
        "\n",
        "\n",
        "class ValueIteration:\n",
        "    def __init__(self, reward_function, transition_model, gamma):\n",
        "        self.num_states = transition_model.shape[0]\n",
        "        self.num_actions = transition_model.shape[1]\n",
        "        self.reward_function = np.nan_to_num(reward_function)\n",
        "        self.transition_model = transition_model\n",
        "        self.gamma = gamma\n",
        "        self.values = np.zeros(self.num_states)\n",
        "        self.policy = None\n",
        "\n",
        "    def one_iteration(self):\n",
        "        delta = 0\n",
        "        for s in range(self.num_states):\n",
        "            temp = self.values[s]\n",
        "            v_list = np.zeros(self.num_actions)\n",
        "            for a in range(self.num_actions):\n",
        "                p = self.transition_model[s, a]\n",
        "                v_list[a] = self.reward_function[s] + self.gamma * np.sum(p * self.values)\n",
        "\n",
        "            self.values[s] = max(v_list)\n",
        "            delta = max(delta, abs(temp - self.values[s]))\n",
        "        return delta\n",
        "\n",
        "    def get_policy(self):\n",
        "        pi = np.ones(self.num_states) * -1\n",
        "        for s in range(self.num_states):\n",
        "            v_list = np.zeros(self.num_actions)\n",
        "            for a in range(self.num_actions):\n",
        "                p = self.transition_model[s, a]\n",
        "                v_list[a] = self.reward_function[s] + self.gamma * np.sum(p * self.values)\n",
        "\n",
        "            max_index = []\n",
        "            max_val = np.max(v_list)\n",
        "            for a in range(self.num_actions):\n",
        "                if v_list[a] == max_val:\n",
        "                    max_index.append(a)\n",
        "            pi[s] = np.random.choice(max_index)\n",
        "        return pi.astype(int)\n",
        "\n",
        "    def train(self, tol=1e-3):\n",
        "        epoch = 0\n",
        "        delta = self.one_iteration()\n",
        "        delta_history = [delta]\n",
        "        while delta > tol:\n",
        "            epoch += 1\n",
        "            delta = self.one_iteration()\n",
        "            delta_history.append(delta)\n",
        "            if delta < tol:\n",
        "                break\n",
        "        self.policy = self.get_policy()\n",
        "\n",
        "        print(f'# iterations of policy improvement: {len(delta_history)}')\n",
        "        print(f'delta = {delta_history}')\n",
        "\n",
        "        fig, ax = plt.subplots(1, 1, figsize=(3, 2), dpi=200)\n",
        "        ax.plot(np.arange(len(delta_history)) + 1, delta_history, marker='o', markersize=4,\n",
        "                alpha=0.7, color='#2ca02c', label=r'$\\gamma= $' + f'{self.gamma}')\n",
        "        ax.set_xlabel('Iteration')\n",
        "        ax.set_ylabel('Delta')\n",
        "        ax.legend()\n",
        "        plt.tight_layout()\n",
        "        plt.show()"
      ],
      "metadata": {
        "id": "3wa4flO9JiQJ"
      },
      "execution_count": null,
      "outputs": []
    },
    {
      "cell_type": "code",
      "source": [
        "import numpy as np\n",
        "import matplotlib.pyplot as plt\n",
        "import matplotlib.patches as patches\n",
        "from time import time\n",
        "\n",
        "\n",
        "class GridWorld:\n",
        "    def __init__(self, filename, reward, random_rate, time_limit=1000):\n",
        "        file = open(filename)\n",
        "        self.map = np.array(\n",
        "            [list(map(float, s.strip().split(\",\"))) for s in file.readlines()]\n",
        "        )\n",
        "        file.close()\n",
        "        self.num_rows = self.map.shape[0]\n",
        "        self.num_cols = self.map.shape[1]\n",
        "        self.num_states = self.num_rows * self.num_cols\n",
        "        self.num_actions = 4\n",
        "        self.reward = reward\n",
        "        self.random_rate = random_rate\n",
        "        self.time_limit = time_limit\n",
        "        self.reward_function = self.get_reward_function()\n",
        "        self.transition_model = self.get_transition_model()\n",
        "\n",
        "    def get_state_from_pos(self, pos):\n",
        "        return pos[0] * self.num_cols + pos[1]\n",
        "\n",
        "    def get_pos_from_state(self, state):\n",
        "        return state // self.num_cols, state % self.num_cols\n",
        "\n",
        "    def get_reward_function(self):\n",
        "        reward_table = np.zeros(self.num_states)\n",
        "        for r in range(self.num_rows):\n",
        "            for c in range(self.num_cols):\n",
        "                s = self.get_state_from_pos((r, c))\n",
        "                reward_table[s] = self.reward[self.map[r, c]]\n",
        "        return reward_table\n",
        "\n",
        "    def get_transition_model(self):\n",
        "        transition_model = np.zeros((self.num_states, self.num_actions, self.num_states))\n",
        "        for r in range(self.num_rows):\n",
        "            for c in range(self.num_cols):\n",
        "                s = self.get_state_from_pos((r, c))\n",
        "                neighbor_s = np.zeros(self.num_actions)\n",
        "                if self.map[r, c] == 0:\n",
        "                    for a in range(self.num_actions):\n",
        "                        new_r, new_c = r, c\n",
        "                        if a == 0:\n",
        "                            new_r = max(r - 1, 0)\n",
        "                        elif a == 1:\n",
        "                            new_c = min(c + 1, self.num_cols - 1)\n",
        "                        elif a == 2:\n",
        "                            new_r = min(r + 1, self.num_rows - 1)\n",
        "                        elif a == 3:\n",
        "                            new_c = max(c - 1, 0)\n",
        "                        if self.map[new_r, new_c] == 3:\n",
        "                            new_r, new_c = r, c\n",
        "                        s_prime = self.get_state_from_pos((new_r, new_c))\n",
        "                        neighbor_s[a] = s_prime\n",
        "                else:\n",
        "                    neighbor_s = np.ones(self.num_actions) * s\n",
        "                for a in range(self.num_actions):\n",
        "                    transition_model[s, a, int(neighbor_s[a])] += 1 - self.random_rate\n",
        "                    transition_model[s, a, int(neighbor_s[(a + 1) % self.num_actions])] += self.random_rate / 2.0\n",
        "                    transition_model[s, a, int(neighbor_s[(a - 1) % self.num_actions])] += self.random_rate / 2.0\n",
        "        return transition_model\n",
        "\n",
        "    def generate_random_policy(self):\n",
        "        return np.random.randint(self.num_actions, size=self.num_states)\n",
        "\n",
        "    def execute_policy(self, policy, start_pos):\n",
        "        s = self.get_state_from_pos(start_pos)\n",
        "        r = self.reward_function[s]\n",
        "        total_reward = r\n",
        "\n",
        "        start_time = int(round(time() * 1000))\n",
        "        overtime = False\n",
        "\n",
        "        while r != self.reward[1] and r != self.reward[2]:\n",
        "            s = np.random.choice(self.num_states, p=self.transition_model[s, policy[s]])\n",
        "            r = self.reward_function[s]\n",
        "            total_reward += r\n",
        "            cur_time = int(round(time() * 1000)) - start_time\n",
        "            if cur_time > self.time_limit:\n",
        "                overtime = True\n",
        "                break\n",
        "        if overtime is True:\n",
        "            return float('-inf')\n",
        "        else:\n",
        "            return total_reward\n",
        "\n",
        "    def random_start_policy(self, policy, start_pos, n=100, plot=True):\n",
        "        start_time = int(round(time() * 1000))\n",
        "        overtime = False\n",
        "        scores = np.zeros(n)\n",
        "        i = 0\n",
        "        while i < n:\n",
        "            temp = self.execute_policy(policy=policy, start_pos=start_pos)\n",
        "            print(f'i = {i} Random start result: {temp}')\n",
        "            if temp > float('-inf'):\n",
        "                scores[i] = temp\n",
        "                i += 1\n",
        "            cur_time = int(round(time() * 1000)) - start_time\n",
        "            if cur_time > n * self.time_limit:\n",
        "                overtime = True\n",
        "                break\n",
        "\n",
        "        print(f'max = {np.max(scores)}')\n",
        "        print(f'min = {np.min(scores)}')\n",
        "        print(f'mean = {np.mean(scores)}')\n",
        "        print(f'std = {np.std(scores)}')\n",
        "\n",
        "        if overtime is False and plot is True:\n",
        "            bins = 100\n",
        "            fig, ax = plt.subplots(1, 1, figsize=(6, 4), dpi=300)\n",
        "            ax.set_xlabel('Total rewards in a single game')\n",
        "            ax.set_ylabel('Frequency')\n",
        "            ax.hist(scores, bins=bins, color='#1f77b4', edgecolor='black')\n",
        "            plt.show()\n",
        "\n",
        "        if overtime is True:\n",
        "            print('Overtime!')\n",
        "            return None\n",
        "        else:\n",
        "            return np.max(scores), np.min(scores), np.mean(scores)\n",
        "\n",
        "    def blackbox_move(self, s, a):\n",
        "        temp = self.transition_model[s, a]\n",
        "        s_prime = np.random.choice(self.num_states, p=temp)\n",
        "        r = self.reward_function[s_prime]\n",
        "        return s_prime, r\n",
        "\n",
        "    def plot_map(self, fig_size=(8, 6)):\n",
        "        unit = min(fig_size[1] // self.num_rows, fig_size[0] // self.num_cols)\n",
        "        unit = max(1, unit)\n",
        "        fig, ax = plt.subplots(1, 1, figsize=fig_size)\n",
        "        ax.axis('off')\n",
        "        for i in range(self.num_cols + 1):\n",
        "            if i == 0 or i == self.num_cols:\n",
        "                ax.plot([i * unit, i * unit], [0, self.num_rows * unit],\n",
        "                        color='black')\n",
        "            else:\n",
        "                ax.plot([i * unit, i * unit], [0, self.num_rows * unit],\n",
        "                        alpha=0.7, color='grey', linestyle='dashed')\n",
        "        for i in range(self.num_rows + 1):\n",
        "            if i == 0 or i == self.num_rows:\n",
        "                ax.plot([0, self.num_cols * unit], [i * unit, i * unit],\n",
        "                        color='black')\n",
        "            else:\n",
        "                ax.plot([0, self.num_cols * unit], [i * unit, i * unit],\n",
        "                        alpha=0.7, color='grey', linestyle='dashed')\n",
        "\n",
        "        for i in range(self.num_rows):\n",
        "            for j in range(self.num_cols):\n",
        "                y = (self.num_rows - 1 - i) * unit\n",
        "                x = j * unit\n",
        "                if self.map[i, j] == 3:\n",
        "                    rect = patches.Rectangle((x, y), unit, unit, edgecolor='none', facecolor='black',\n",
        "                                             alpha=0.6)\n",
        "                    ax.add_patch(rect)\n",
        "                elif self.map[i, j] == 2:\n",
        "                    rect = patches.Rectangle((x, y), unit, unit, edgecolor='none', facecolor='red',\n",
        "                                             alpha=0.6)\n",
        "                    ax.add_patch(rect)\n",
        "                elif self.map[i, j] == 1:\n",
        "                    rect = patches.Rectangle((x, y), unit, unit, edgecolor='none', facecolor='green',\n",
        "                                             alpha=0.6)\n",
        "                    ax.add_patch(rect)\n",
        "\n",
        "        plt.tight_layout()\n",
        "        plt.show()\n",
        "\n",
        "    def plot_policy(self, policy, fig_size=(8, 6)):\n",
        "        unit = min(fig_size[1] // self.num_rows, fig_size[0] // self.num_cols)\n",
        "        unit = max(1, unit)\n",
        "        fig, ax = plt.subplots(1, 1, figsize=fig_size)\n",
        "        ax.axis('off')\n",
        "        for i in range(self.num_cols + 1):\n",
        "            if i == 0 or i == self.num_cols:\n",
        "                ax.plot([i * unit, i * unit], [0, self.num_rows * unit],\n",
        "                        color='black')\n",
        "            else:\n",
        "                ax.plot([i * unit, i * unit], [0, self.num_rows * unit],\n",
        "                        alpha=0.7, color='grey', linestyle='dashed')\n",
        "        for i in range(self.num_rows + 1):\n",
        "            if i == 0 or i == self.num_rows:\n",
        "                ax.plot([0, self.num_cols * unit], [i * unit, i * unit],\n",
        "                        color='black')\n",
        "            else:\n",
        "                ax.plot([0, self.num_cols * unit], [i * unit, i * unit],\n",
        "                        alpha=0.7, color='grey', linestyle='dashed')\n",
        "\n",
        "        for i in range(self.num_rows):\n",
        "            for j in range(self.num_cols):\n",
        "                y = (self.num_rows - 1 - i) * unit\n",
        "                x = j * unit\n",
        "                if self.map[i, j] == 3:\n",
        "                    rect = patches.Rectangle((x, y), unit, unit, edgecolor='none', facecolor='black',\n",
        "                                             alpha=0.6)\n",
        "                    ax.add_patch(rect)\n",
        "                elif self.map[i, j] == 2:\n",
        "                    rect = patches.Rectangle((x, y), unit, unit, edgecolor='none', facecolor='red',\n",
        "                                             alpha=0.6)\n",
        "                    ax.add_patch(rect)\n",
        "                elif self.map[i, j] == 1:\n",
        "                    rect = patches.Rectangle((x, y), unit, unit, edgecolor='none', facecolor='green',\n",
        "                                             alpha=0.6)\n",
        "                    ax.add_patch(rect)\n",
        "                s = self.get_state_from_pos((i, j))\n",
        "                if self.map[i, j] == 0:\n",
        "                    a = policy[s]\n",
        "                    symbol = ['^', '>', 'v', '<']\n",
        "                    ax.plot([x + 0.5 * unit], [y + 0.5 * unit], marker=symbol[a],\n",
        "                            linestyle='none', markersize=max(fig_size)*unit, color='#1f77b4')\n",
        "\n",
        "        plt.tight_layout()\n",
        "        plt.show()\n",
        "\n",
        "    def visualize_value_policy(self, policy, values, fig_size=(8, 6)):\n",
        "        unit = min(fig_size[1] // self.num_rows, fig_size[0] // self.num_cols)\n",
        "        unit = max(1, unit)\n",
        "        fig, ax = plt.subplots(1, 1, figsize=fig_size)\n",
        "        ax.axis('off')\n",
        "\n",
        "        for i in range(self.num_cols + 1):\n",
        "            if i == 0 or i == self.num_cols:\n",
        "                ax.plot([i * unit, i * unit], [0, self.num_rows * unit],\n",
        "                        color='black')\n",
        "            else:\n",
        "                ax.plot([i * unit, i * unit], [0, self.num_rows * unit],\n",
        "                        alpha=0.7, color='grey', linestyle='dashed')\n",
        "        for i in range(self.num_rows + 1):\n",
        "            if i == 0 or i == self.num_rows:\n",
        "                ax.plot([0, self.num_cols * unit], [i * unit, i * unit],\n",
        "                        color='black')\n",
        "            else:\n",
        "                ax.plot([0, self.num_cols * unit], [i * unit, i * unit],\n",
        "                        alpha=0.7, color='grey', linestyle='dashed')\n",
        "\n",
        "        for i in range(self.num_rows):\n",
        "            for j in range(self.num_cols):\n",
        "                y = (self.num_rows - 1 - i) * unit\n",
        "                x = j * unit\n",
        "                s = self.get_state_from_pos((i, j))\n",
        "                if self.map[i, j] == 3:\n",
        "                    rect = patches.Rectangle((x, y), unit, unit, edgecolor='none', facecolor='black',\n",
        "                                             alpha=0.6)\n",
        "                    ax.add_patch(rect)\n",
        "                elif self.map[i, j] == 2:\n",
        "                    rect = patches.Rectangle((x, y), unit, unit, edgecolor='none', facecolor='red',\n",
        "                                             alpha=0.6)\n",
        "                    ax.add_patch(rect)\n",
        "                elif self.map[i, j] == 1:\n",
        "                    rect = patches.Rectangle((x, y), unit, unit, edgecolor='none', facecolor='green',\n",
        "                                             alpha=0.6)\n",
        "                    ax.add_patch(rect)\n",
        "                if self.map[i, j] != 3:\n",
        "                    ax.text(x + 0.5 * unit, y + 0.5 * unit, f'{values[s]:.4f}',\n",
        "                            horizontalalignment='center', verticalalignment='center',\n",
        "                            fontsize=max(fig_size)*unit*0.6)\n",
        "                if policy is not None:\n",
        "                    if self.map[i, j] == 0:\n",
        "                        a = policy[s]\n",
        "                        symbol = ['^', '>', 'v', '<']\n",
        "                        ax.plot([x + 0.5 * unit], [y + 0.5 * unit], marker=symbol[a], alpha=0.4,\n",
        "                                linestyle='none', markersize=max(fig_size)*unit, color='#1f77b4')\n",
        "\n",
        "        plt.tight_layout()\n",
        "        plt.show()\n",
        "\n",
        "\n",
        "\n"
      ],
      "metadata": {
        "id": "9vTsnvBSJ3JP"
      },
      "execution_count": null,
      "outputs": []
    },
    {
      "cell_type": "code",
      "source": [
        "problem = GridWorld('/content/world00.csv')\n",
        "\n",
        "solver = ValueIteration(problem.reward_function, problem.transition_model, gamma=0.9)\n",
        "solver.train()\n",
        "\n",
        "problem.visualize_value_policy(policy=solver.policy, values=solver.values)\n",
        "problem.random_start_policy(policy=solver.policy)"
      ],
      "metadata": {
        "colab": {
          "base_uri": "https://localhost:8080/",
          "height": 244
        },
        "id": "6D7MMzFBJ0Ef",
        "outputId": "720a1114-8134-4561-abca-f83a9835e055"
      },
      "execution_count": null,
      "outputs": [
        {
          "output_type": "error",
          "ename": "TypeError",
          "evalue": "ignored",
          "traceback": [
            "\u001b[0;31m---------------------------------------------------------------------------\u001b[0m",
            "\u001b[0;31mTypeError\u001b[0m                                 Traceback (most recent call last)",
            "\u001b[0;32m<ipython-input-83-d6953097abf1>\u001b[0m in \u001b[0;36m<module>\u001b[0;34m\u001b[0m\n\u001b[0;32m----> 1\u001b[0;31m \u001b[0mproblem\u001b[0m \u001b[0;34m=\u001b[0m \u001b[0mGridWorld\u001b[0m\u001b[0;34m(\u001b[0m\u001b[0;34m'/content/world00.csv'\u001b[0m\u001b[0;34m)\u001b[0m\u001b[0;34m\u001b[0m\u001b[0;34m\u001b[0m\u001b[0m\n\u001b[0m\u001b[1;32m      2\u001b[0m \u001b[0;34m\u001b[0m\u001b[0m\n\u001b[1;32m      3\u001b[0m \u001b[0msolver\u001b[0m \u001b[0;34m=\u001b[0m \u001b[0mValueIteration\u001b[0m\u001b[0;34m(\u001b[0m\u001b[0mproblem\u001b[0m\u001b[0;34m.\u001b[0m\u001b[0mreward_function\u001b[0m\u001b[0;34m,\u001b[0m \u001b[0mproblem\u001b[0m\u001b[0;34m.\u001b[0m\u001b[0mtransition_model\u001b[0m\u001b[0;34m,\u001b[0m \u001b[0mgamma\u001b[0m\u001b[0;34m=\u001b[0m\u001b[0;36m0.9\u001b[0m\u001b[0;34m)\u001b[0m\u001b[0;34m\u001b[0m\u001b[0;34m\u001b[0m\u001b[0m\n\u001b[1;32m      4\u001b[0m \u001b[0msolver\u001b[0m\u001b[0;34m.\u001b[0m\u001b[0mtrain\u001b[0m\u001b[0;34m(\u001b[0m\u001b[0;34m)\u001b[0m\u001b[0;34m\u001b[0m\u001b[0;34m\u001b[0m\u001b[0m\n\u001b[1;32m      5\u001b[0m \u001b[0;34m\u001b[0m\u001b[0m\n",
            "\u001b[0;31mTypeError\u001b[0m: __init__() missing 2 required positional arguments: 'reward' and 'random_rate'"
          ]
        }
      ]
    },
    {
      "cell_type": "markdown",
      "source": [
        "# **EM**"
      ],
      "metadata": {
        "id": "QYUZyZYJLodg"
      }
    },
    {
      "cell_type": "markdown",
      "source": [
        "https://www.kaggle.com/code/charel/learn-by-example-expectation-maximization/notebook"
      ],
      "metadata": {
        "id": "wUlmELWoMDo2"
      }
    },
    {
      "cell_type": "code",
      "source": [],
      "metadata": {
        "id": "i8A9dT-yLng3"
      },
      "execution_count": null,
      "outputs": []
    },
    {
      "cell_type": "code",
      "source": [
        "import pathlib\n",
        "import pandas as pd\n",
        "import numpy as n\n",
        "import tensorflow as tf\n",
        "\n",
        "dsurl=\"http://download.tensorflow.org/example_images/flower_photos.tgz\"\n",
        "\n",
        "datadir=tf.keras.utils.get_file('flower_photos',origin=dsurl,untar=True)\n",
        "datadir=pathlib.Path(datadir)"
      ],
      "metadata": {
        "colab": {
          "base_uri": "https://localhost:8080/"
        },
        "id": "wZNK03aI0oVA",
        "outputId": "599a4002-27c0-4ddd-8a51-a88b73517276"
      },
      "execution_count": 5,
      "outputs": [
        {
          "output_type": "stream",
          "name": "stdout",
          "text": [
            "Downloading data from http://download.tensorflow.org/example_images/flower_photos.tgz\n",
            "228813984/228813984 [==============================] - 1s 0us/step\n"
          ]
        }
      ]
    },
    {
      "cell_type": "code",
      "source": [
        "from tensorflow.keras.layers import Dense,Flatten\n",
        "from tensorflow.keras.models import Sequential\n",
        "from tensorflow.keras.optimizers import Adam"
      ],
      "metadata": {
        "id": "syfA8fpZ1lzF"
      },
      "execution_count": 6,
      "outputs": []
    },
    {
      "cell_type": "code",
      "source": [
        "train_ds=tf.keras.preprocessing.image_dataset_from_directory(\n",
        "    datadir,\n",
        "    validation_split=0.2,\n",
        "    subset=\"training\",\n",
        "    seed=123,\n",
        "    image_size=(180,180),\n",
        "    batch_size=32\n",
        ")\n",
        "\n",
        "val_ds=tf.keras.preprocessing.image_dataset_from_directory(\n",
        "    datadir,\n",
        "    validation_split=0.2,\n",
        "    subset=\"validation\",\n",
        "    seed=123,\n",
        "    image_size=(180,180),\n",
        "    batch_size=32\n",
        ")"
      ],
      "metadata": {
        "colab": {
          "base_uri": "https://localhost:8080/"
        },
        "id": "Q5nNky8Y10tc",
        "outputId": "0fae8595-65f9-4cab-9337-50868ade217e"
      },
      "execution_count": 7,
      "outputs": [
        {
          "output_type": "stream",
          "name": "stdout",
          "text": [
            "Found 3670 files belonging to 5 classes.\n",
            "Using 2936 files for training.\n",
            "Found 3670 files belonging to 5 classes.\n",
            "Using 734 files for validation.\n"
          ]
        }
      ]
    },
    {
      "cell_type": "code",
      "source": [],
      "metadata": {
        "id": "JuiSsztT20RS"
      },
      "execution_count": null,
      "outputs": []
    },
    {
      "cell_type": "markdown",
      "source": [
        "# **GOOGLENET**"
      ],
      "metadata": {
        "id": "TF8jHJh90KiL"
      }
    },
    {
      "cell_type": "code",
      "source": [
        "Googlenet=Sequential()\n",
        "model=tf.keras.applications.InceptionV3(\n",
        "    include_top=False,\n",
        "    input_shape=(180,180,3),\n",
        "    classes=5,\n",
        "    weights='imagenet'\n",
        ")\n",
        "\n",
        "for layer in model.layers:\n",
        "  layer.trainable=False"
      ],
      "metadata": {
        "id": "tFB9Pnod23uS"
      },
      "execution_count": 15,
      "outputs": []
    },
    {
      "cell_type": "code",
      "source": [
        "#help(tf.keras.applications.InceptionV3)\n",
        "Googlenet.add(model)\n",
        "Googlenet.add(Flatten())\n",
        "Googlenet.add(Dense(512,activation='relu'))\n",
        "Googlenet.add(Dense(5,activation='softmax'))\n",
        "\n"
      ],
      "metadata": {
        "id": "PJA7x4XX3VJQ"
      },
      "execution_count": 16,
      "outputs": []
    },
    {
      "cell_type": "code",
      "source": [
        "Googlenet.compile(optimizer=Adam(lr=0.001),loss='sparse_categorical_crossentropy',metrics=['accuracy'])\n",
        "history=Googlenet.fit(train_ds,validation_data=val_ds)\n",
        "history.history['val_accuracy']"
      ],
      "metadata": {
        "colab": {
          "base_uri": "https://localhost:8080/"
        },
        "id": "_mSd-5-B5MVF",
        "outputId": "ef9237f2-d779-48dd-f849-378c485f63ed"
      },
      "execution_count": 17,
      "outputs": [
        {
          "output_type": "stream",
          "name": "stderr",
          "text": [
            "/usr/local/lib/python3.7/dist-packages/keras/optimizers/optimizer_v2/adam.py:110: UserWarning: The `lr` argument is deprecated, use `learning_rate` instead.\n",
            "  super(Adam, self).__init__(name, **kwargs)\n"
          ]
        },
        {
          "output_type": "stream",
          "name": "stdout",
          "text": [
            "92/92 [==============================] - 293s 3s/step - loss: 222.7014 - accuracy: 0.3171 - val_loss: 28.4059 - val_accuracy: 0.3256\n"
          ]
        },
        {
          "output_type": "execute_result",
          "data": {
            "text/plain": [
              "[0.3256130814552307]"
            ]
          },
          "metadata": {},
          "execution_count": 17
        }
      ]
    },
    {
      "cell_type": "markdown",
      "source": [
        "# **mobileNET**"
      ],
      "metadata": {
        "id": "AhDVm2m-0O8z"
      }
    },
    {
      "cell_type": "code",
      "source": [
        "Googlenet=Sequential()\n",
        "model=tf.keras.applications.MobileNet(\n",
        "    include_top=False,\n",
        "    input_shape=(180,180,3),\n",
        "    classes=5,\n",
        "    weights='imagenet'\n",
        ")\n",
        "\n",
        "for layer in model.layers:\n",
        "  layer.trainable=False\n",
        "\n",
        "#help(tf.keras.applications.InceptionV3)\n",
        "Googlenet.add(model)\n",
        "Googlenet.add(Flatten())\n",
        "Googlenet.add(Dense(512,activation='relu'))\n",
        "Googlenet.add(Dense(5,activation='softmax'))\n",
        "\n",
        "Googlenet.compile(optimizer=Adam(lr=0.001),loss='sparse_categorical_crossentropy',metrics=['accuracy'])\n",
        "history=Googlenet.fit(train_ds,validation_data=val_ds)\n",
        "history.history['val_accuracy']"
      ],
      "metadata": {
        "id": "oorYstZ-5i9V"
      },
      "execution_count": null,
      "outputs": []
    },
    {
      "cell_type": "markdown",
      "source": [
        "# **efficientNET**"
      ],
      "metadata": {
        "id": "Y-79CKJD0PB7"
      }
    },
    {
      "cell_type": "code",
      "source": [
        "Googlenet=Sequential()\n",
        "model=tf.keras.applications.EfficientNetB0(\n",
        "    include_top=False,\n",
        "    input_shape=(180,180,3),\n",
        "    classes=5,\n",
        "    weights='imagenet'\n",
        ")\n",
        "\n",
        "for layer in model.layers:\n",
        "  layer.trainable=False\n",
        "\n",
        "#help(tf.keras.applications.InceptionV3)\n",
        "Googlenet.add(model)\n",
        "Googlenet.add(Flatten())\n",
        "Googlenet.add(Dense(512,activation='relu'))\n",
        "Googlenet.add(Dense(5,activation='softmax'))\n",
        "\n",
        "Googlenet.compile(optimizer=Adam(lr=0.001),loss='sparse_categorical_crossentropy',metrics=['accuracy'])\n",
        "history=Googlenet.fit(train_ds,validation_data=val_ds)\n",
        "history.history['val_accuracy']"
      ],
      "metadata": {
        "id": "FTALYu4X5wDD"
      },
      "execution_count": null,
      "outputs": []
    },
    {
      "cell_type": "markdown",
      "source": [
        "# **denseNET**"
      ],
      "metadata": {
        "id": "bCZ13qXT0PH4"
      }
    },
    {
      "cell_type": "code",
      "source": [
        "Googlenet=Sequential()\n",
        "model=tf.keras.applications.DenseNet121(\n",
        "    include_top=False,\n",
        "    input_shape=(180,180,3),\n",
        "    classes=5,\n",
        "    weights='imagenet'\n",
        ")\n",
        "\n",
        "for layer in model.layers:\n",
        "  layer.trainable=False\n",
        "\n",
        "#help(tf.keras.applications.InceptionV3)\n",
        "Googlenet.add(model)\n",
        "Googlenet.add(Flatten())\n",
        "Googlenet.add(Dense(512,activation='relu'))\n",
        "Googlenet.add(Dense(5,activation='softmax'))\n",
        "\n",
        "Googlenet.compile(optimizer=Adam(lr=0.001),loss='sparse_categorical_crossentropy',metrics=['accuracy'])\n",
        "history=Googlenet.fit(train_ds,validation_data=val_ds)\n",
        "history.history['val_accuracy']"
      ],
      "metadata": {
        "id": "MU7LdccP52UF"
      },
      "execution_count": null,
      "outputs": []
    },
    {
      "cell_type": "markdown",
      "source": [
        "# **vcgNET**"
      ],
      "metadata": {
        "id": "FsKrEcvx0PM5"
      }
    },
    {
      "cell_type": "code",
      "source": [
        "Googlenet=Sequential()\n",
        "model=tf.keras.applications.VCG16(\n",
        "    include_top=False,\n",
        "    input_shape=(180,180,3),\n",
        "    classes=5,\n",
        "    weights='imagenet'\n",
        ")\n",
        "\n",
        "for layer in model.layers:\n",
        "  layer.trainable=False\n",
        "\n",
        "#help(tf.keras.applications.InceptionV3)\n",
        "Googlenet.add(model)\n",
        "Googlenet.add(Flatten())\n",
        "Googlenet.add(Dense(512,activation='relu'))\n",
        "Googlenet.add(Dense(5,activation='softmax'))\n",
        "\n",
        "Googlenet.compile(optimizer=Adam(lr=0.001),loss='sparse_categorical_crossentropy',metrics=['accuracy'])\n",
        "history=Googlenet.fit(train_ds,validation_data=val_ds)\n",
        "history.history['val_accuracy']"
      ],
      "metadata": {
        "id": "gPEqZen4560J"
      },
      "execution_count": null,
      "outputs": []
    },
    {
      "cell_type": "markdown",
      "source": [
        "# **resNET**"
      ],
      "metadata": {
        "id": "7PNJeluQ0PSd"
      }
    },
    {
      "cell_type": "code",
      "source": [
        "Googlenet=Sequential()\n",
        "model=tf.keras.applications.ResNet50(\n",
        "    include_top=False,\n",
        "    input_shape=(180,180,3),\n",
        "    classes=5,\n",
        "    weights='imagenet'\n",
        ")\n",
        "\n",
        "for layer in model.layers:\n",
        "  layer.trainable=False\n",
        "\n",
        "#help(tf.keras.applications.InceptionV3)\n",
        "Googlenet.add(model)\n",
        "Googlenet.add(Flatten())\n",
        "Googlenet.add(Dense(512,activation='relu'))\n",
        "Googlenet.add(Dense(5,activation='softmax'))\n",
        "\n",
        "Googlenet.compile(optimizer=Adam(lr=0.001),loss='sparse_categorical_crossentropy',metrics=['accuracy'])\n",
        "history=Googlenet.fit(train_ds,validation_data=val_ds)\n",
        "history.history['val_accuracy']"
      ],
      "metadata": {
        "id": "He91n2gP6BtX"
      },
      "execution_count": null,
      "outputs": []
    },
    {
      "cell_type": "markdown",
      "source": [
        "# **GAN**"
      ],
      "metadata": {
        "id": "lMbQ27QJ0PcS"
      }
    },
    {
      "cell_type": "markdown",
      "source": [
        "# **RNN**"
      ],
      "metadata": {
        "id": "J5riV4vb6--4"
      }
    },
    {
      "cell_type": "code",
      "source": [
        "help(tf.keras.layers.SimpleRNN)"
      ],
      "metadata": {
        "id": "Z9BuvUsi7fo2"
      },
      "execution_count": null,
      "outputs": []
    },
    {
      "cell_type": "code",
      "source": [
        "mnist=tf.keras.datasets.mnist\n",
        "(X_train,y_train),(X_test,y_test)=mnist.load_data()\n",
        "X_train,X_test=X_train/255.0,X_test/255.0\n",
        "\n",
        "sample,sample_label=X_train[0],y_train[0]\n",
        "\n",
        "def build_model():\n",
        "  lstm_layer=tf.keras.layers.SimpleRNN(64,input_shape=(None,28))\n",
        "  model=tf.keras.models.Sequential(\n",
        "      [\n",
        "          lstm_layer,\n",
        "       tf.keras.layers.BatchNormalization(),\n",
        "       tf.keras.layers.Dense(10)\n",
        "      ]\n",
        "  )\n",
        "  return model\n",
        "\n",
        "model=build_model()\n",
        "model.compile(loss='sparse_categorical_crossentropy',\n",
        "              optimizer=\"sgd\",\n",
        "              metrics=['accuracy'])\n",
        "\n",
        "history=model.fit(X_train,y_train,validation_data=(X_test,y_test),batch_size=64,epochs=1)"
      ],
      "metadata": {
        "id": "GsYjRzMY_2BY"
      },
      "execution_count": null,
      "outputs": []
    },
    {
      "cell_type": "markdown",
      "source": [
        "# **LSTM**"
      ],
      "metadata": {
        "id": "-tXUZi1t6_F_"
      }
    },
    {
      "cell_type": "code",
      "source": [
        "help(tf.keras.layers.SimpleRNN)"
      ],
      "metadata": {
        "id": "dZfsTJ5m7DLQ"
      },
      "execution_count": null,
      "outputs": []
    },
    {
      "cell_type": "code",
      "source": [
        "mnist=tf.keras.datasets.mnist\n",
        "(X_train,y_train),(X_test,y_test)=mnist.load_data()\n",
        "X_train,X_test=X_train/255.0,X_test/255.0\n",
        "\n",
        "sample,sample_label=X_train[0],y_train[0]"
      ],
      "metadata": {
        "id": "DB96M3gf8W4f"
      },
      "execution_count": 23,
      "outputs": []
    },
    {
      "cell_type": "code",
      "source": [
        "def build_model():\n",
        "  lstm_layer=tf.keras.layers.LSTM(64,input_shape=(None,28))\n",
        "  model=tf.keras.models.Sequential(\n",
        "      [\n",
        "          lstm_layer,\n",
        "       tf.keras.layers.BatchNormalization(),\n",
        "       tf.keras.layers.Dense(10)\n",
        "      ]\n",
        "  )\n",
        "  return model"
      ],
      "metadata": {
        "id": "to5cETEn9ug-"
      },
      "execution_count": 25,
      "outputs": []
    },
    {
      "cell_type": "code",
      "source": [
        "model=build_model()\n",
        "model.compile(loss='sparse_categorical_crossentropy',\n",
        "              optimizer=\"sgd\",\n",
        "              metrics=['accuracy'])"
      ],
      "metadata": {
        "id": "xQyT04kz847a"
      },
      "execution_count": 26,
      "outputs": []
    },
    {
      "cell_type": "code",
      "source": [
        "history=model.fit(X_train,y_train,validation_data=(X_test,y_test),batch_size=64,epochs=1)"
      ],
      "metadata": {
        "colab": {
          "base_uri": "https://localhost:8080/"
        },
        "id": "OXmEX0ro9k3l",
        "outputId": "0b2eac3c-94b3-46ba-8e22-de2d1622f5ae"
      },
      "execution_count": 30,
      "outputs": [
        {
          "output_type": "stream",
          "name": "stdout",
          "text": [
            "938/938 [==============================] - 24s 25ms/step - loss: 2.5352 - accuracy: 0.1906 - val_loss: 3.1435 - val_accuracy: 0.1031\n"
          ]
        }
      ]
    },
    {
      "cell_type": "code",
      "source": [],
      "metadata": {
        "id": "UAxBJcDq-lMJ"
      },
      "execution_count": null,
      "outputs": []
    },
    {
      "cell_type": "markdown",
      "source": [
        "# **gru**"
      ],
      "metadata": {
        "id": "L1gjapLd7D5D"
      }
    },
    {
      "cell_type": "code",
      "source": [
        "mnist=tf.keras.datasets.mnist\n",
        "(X_train,y_train),(X_test,y_test)=mnist.load_data()\n",
        "X_train,X_test=X_train/255.0,X_test/255.0\n",
        "\n",
        "sample,sample_label=X_train[0],y_train[0]\n",
        "\n",
        "def build_model():\n",
        "  lstm_layer=tf.keras.layers.GRU(64,input_shape=(None,28))\n",
        "  model=tf.keras.models.Sequential(\n",
        "      [\n",
        "          lstm_layer,\n",
        "       tf.keras.layers.BatchNormalization(),\n",
        "       tf.keras.layers.Dense(10)\n",
        "      ]\n",
        "  )\n",
        "  return model\n",
        "\n",
        "model=build_model()\n",
        "model.compile(loss='sparse_categorical_crossentropy',\n",
        "              optimizer=\"sgd\",\n",
        "              metrics=['accuracy'])\n",
        "\n",
        "history=model.fit(X_train,y_train,validation_data=(X_test,y_test),batch_size=64,epochs=1)"
      ],
      "metadata": {
        "colab": {
          "base_uri": "https://localhost:8080/"
        },
        "id": "m0ahp3uv7H-N",
        "outputId": "23e46251-e0f2-4419-f82f-566a635567a9"
      },
      "execution_count": 34,
      "outputs": [
        {
          "output_type": "stream",
          "name": "stdout",
          "text": [
            "938/938 [==============================] - 22s 21ms/step - loss: 3.3513 - accuracy: 0.1633 - val_loss: 2.9309 - val_accuracy: 0.1867\n"
          ]
        }
      ]
    },
    {
      "cell_type": "markdown",
      "source": [
        "# **transformers**"
      ],
      "metadata": {
        "id": "kjB8eAEc7ISI"
      }
    },
    {
      "cell_type": "code",
      "source": [
        "import numpy as np\n",
        "url=\"https://raw.githubusercontent.com/prilily/ML-LAB/main/data.csv\"\n",
        "df=pd.read_fwf(url)\n",
        "df.to_csv('data.csv',sep='\\t')"
      ],
      "metadata": {
        "id": "ih13xdegAubw"
      },
      "execution_count": 46,
      "outputs": []
    }
  ]
}